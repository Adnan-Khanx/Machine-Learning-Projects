{
 "cells": [
  {
   "cell_type": "markdown",
   "metadata": {
    "id": "_ucS-xO72vIn"
   },
   "source": [
    "# Importing required Liberaries"
   ]
  },
  {
   "cell_type": "code",
   "execution_count": 5,
   "metadata": {
    "id": "EEg20iFf2iNb"
   },
   "outputs": [],
   "source": [
    "import random\n",
    "import numpy as np\n",
    "import matplotlib.pyplot as plt\n",
    "import seaborn as sns"
   ]
  },
  {
   "cell_type": "markdown",
   "metadata": {
    "id": "16ldUQkq22sU"
   },
   "source": [
    "Proability density function for failure time t"
   ]
  },
  {
   "cell_type": "code",
   "execution_count": 6,
   "metadata": {
    "id": "WZ7UHuog2yfX"
   },
   "outputs": [],
   "source": [
    "def pdf_for_failure(t,lamda):\n",
    "    pdf=[]\n",
    "    for i in t:\n",
    "        if i>=0:\n",
    "            pdf.append(1/lamda * np.exp(-i/lamda))\n",
    "        else:\n",
    "            pdf.append(0)\n",
    "    return pdf"
   ]
  },
  {
   "cell_type": "markdown",
   "metadata": {
    "id": "WyBD0FU63AEl"
   },
   "source": [
    "# PDF validity"
   ]
  },
  {
   "cell_type": "code",
   "execution_count": 7,
   "metadata": {
    "colab": {
     "base_uri": "https://localhost:8080/",
     "height": 265
    },
    "id": "AcsUBi3I3jwu",
    "outputId": "e2ff57b7-4bb3-4e79-ba60-17412b9ca19b"
   },
   "outputs": [
    {
     "data": {
      "image/png": "[encoded data removed]",
      "text/plain": [
       "<Figure size 432x288 with 1 Axes>"
      ]
     },
     "metadata": {
      "needs_background": "light"
     },
     "output_type": "display_data"
    }
   ],
   "source": [
    "samples=np.random.normal(size=10000)\n",
    "bins=np.linspace(0,1000,1001)\n",
    "x=np.linspace(0,1000,1000)\n",
    "x=pdf_for_failure(x,1000)\n",
    "histogram, bins = np.histogram(samples, bins=bins, density=True)\n",
    "bin_centers = 0.5*(bins[1:] + bins[:-1])\n",
    "plt.plot(x, bin_centers, label=\"PDF\")\n",
    "plt.show()"
   ]
  },
  {
   "cell_type": "code",
   "execution_count": 8,
   "metadata": {
    "id": "kkFcOeKn3B9c"
   },
   "outputs": [],
   "source": [
    "def integeral_pdf(t,lamda):\n",
    "    return (-np.exp(-t/lamda))"
   ]
  },
  {
   "cell_type": "code",
   "execution_count": 9,
   "metadata": {
    "colab": {
     "base_uri": "https://localhost:8080/"
    },
    "id": "DjR_n-VB3GuG",
    "outputId": "7db92851-56d6-4960-f298-a08d916f822d"
   },
   "outputs": [
    {
     "data": {
      "text/plain": [
       "1.0"
      ]
     },
     "execution_count": 9,
     "metadata": {},
     "output_type": "execute_result"
    }
   ],
   "source": [
    "#integral of pdf is\n",
    "positive_infnity = float('inf') \n",
    "lamda=1000\n",
    "result=(integeral_pdf(positive_infnity,lamda)) - (integeral_pdf(0,lamda)) #result=1 means area under the curve is 1 which stisfies the 2nd cond\n",
    "result "
   ]
  },
  {
   "cell_type": "markdown",
   "metadata": {
    "id": "0_WmfTYg3MBm"
   },
   "source": [
    "b. How long after installation should we do preventative maintenance if we wish to have the probability\n",
    "of unexpected failure be less than 1%? What about 10%, 50%, and 99%?"
   ]
  },
  {
   "cell_type": "code",
   "execution_count": 10,
   "metadata": {
    "colab": {
     "base_uri": "https://localhost:8080/"
    },
    "id": "580ZOJwJ3SDC",
    "outputId": "8c45a881-055c-49f2-ab85-92346b878b99"
   },
   "outputs": [
    {
     "name": "stdout",
     "output_type": "stream",
     "text": [
      "0.10 number of days\n",
      "1.00 number of days\n",
      "4.88 number of days\n",
      "9.43 number of days\n"
     ]
    }
   ],
   "source": [
    "one_per=(((integeral_pdf(1,lamda))- (integeral_pdf(0,lamda)))*100) # for 1%\n",
    "ten_per=(((integeral_pdf(10,lamda))- (integeral_pdf(0,lamda)))*100)# for 10%\n",
    "fifty_per=(((integeral_pdf(50,lamda))- (integeral_pdf(0,lamda)))*100)# for 50%\n",
    "nintynine_per=(((integeral_pdf(99,lamda))- (integeral_pdf(0,lamda)))*100)# for 99%\n",
    "print('{:.2f} number of days'.format(one_per))\n",
    "print('{:.2f} number of days'.format(ten_per))\n",
    "print('{:.2f} number of days'.format(fifty_per))\n",
    "print('{:.2f} number of days'.format(nintynine_per))"
   ]
  },
  {
   "cell_type": "markdown",
   "metadata": {
    "id": "-0VthqWG3kQe"
   },
   "source": [
    "Mean Failure time"
   ]
  },
  {
   "cell_type": "code",
   "execution_count": 11,
   "metadata": {
    "colab": {
     "base_uri": "https://localhost:8080/"
    },
    "id": "FQnuiwyt3Wog",
    "outputId": "d50d9931-3cb5-42be-8826-be54f995cc82"
   },
   "outputs": [
    {
     "data": {
      "text/plain": [
       "1000.0"
      ]
     },
     "execution_count": 11,
     "metadata": {},
     "output_type": "execute_result"
    }
   ],
   "source": [
    "def pdf_mean(start_range,end_range,lamda):\n",
    "    return (-lamda*np.exp(-end_range/lamda)) - (-lamda*np.exp(-start_range/lamda)) #E(X)=lamda\n",
    "mean=pdf_mean(0,positive_infnity,1000)\n",
    "mean"
   ]
  },
  {
   "cell_type": "code",
   "execution_count": 12,
   "metadata": {
    "colab": {
     "base_uri": "https://localhost:8080/"
    },
    "id": "43_3pVRE3ppG",
    "outputId": "a52d1b3b-7890-428d-86ec-d563498d7b34"
   },
   "outputs": [
    {
     "data": {
      "text/plain": [
       "[0.09994502182598808, 0.9945217601876948, 4.865184015235741, 9.381446254418961]"
      ]
     },
     "execution_count": 12,
     "metadata": {},
     "output_type": "execute_result"
    }
   ],
   "source": [
    "percents=[one_per,ten_per,fifty_per,nintynine_per]\n",
    "E_x=[]\n",
    "for per in percents:\n",
    "    E_x.append(pdf_mean(0,per,1000))\n",
    "E_x"
   ]
  },
  {
   "cell_type": "markdown",
   "metadata": {
    "id": "x23w8uQQ4uLt"
   },
   "source": [
    "VARIANCE"
   ]
  },
  {
   "cell_type": "code",
   "execution_count": 13,
   "metadata": {
    "colab": {
     "base_uri": "https://localhost:8080/"
    },
    "id": "1hrqU2Eb46HA",
    "outputId": "c6d251c7-7b1d-4e78-eb29-a48072012eb1"
   },
   "outputs": [
    {
     "data": {
      "text/plain": [
       "1000000"
      ]
     },
     "execution_count": 13,
     "metadata": {},
     "output_type": "execute_result"
    }
   ],
   "source": [
    "E_x2=(lamda**2) #2*lamda^2\n",
    "E_x2"
   ]
  },
  {
   "cell_type": "code",
   "execution_count": 14,
   "metadata": {
    "colab": {
     "base_uri": "https://localhost:8080/"
    },
    "id": "JItsUaI0SJ8m",
    "outputId": "5044e3cc-6204-4f53-e1f8-112c6cdcda54"
   },
   "outputs": [
    {
     "data": {
      "text/plain": [
       "[999999.9900109926, 999999.0109264685, 999976.3299844979, 999911.9884661755]"
      ]
     },
     "execution_count": 14,
     "metadata": {},
     "output_type": "execute_result"
    }
   ],
   "source": [
    "var= [E_x2-(Ex**2) for Ex in E_x] # 2*lamda^2 - lamda^2\n",
    "var"
   ]
  },
  {
   "cell_type": "markdown",
   "metadata": {
    "id": "QXxJAQxSWBKi"
   },
   "source": [
    "Write a program that generates samples of t from its distribution. Evaluate the average running cost\n",
    "R for each of tm 2 f1; 10; 100; 1000gdays. In each case, generate 106 samples."
   ]
  },
  {
   "cell_type": "code",
   "execution_count": 15,
   "metadata": {
    "id": "ZuP2BIEHVsrw"
   },
   "outputs": [],
   "source": [
    "t=np.linspace(1,1000,1000,dtype='int')\n",
    "cm=50\n",
    "cr=250\n",
    "random.seed(42)\n",
    "tm=[1,10,100,1000]"
   ]
  },
  {
   "cell_type": "code",
   "execution_count": 16,
   "metadata": {
    "id": "WvXeCy0lV-PN"
   },
   "outputs": [],
   "source": [
    "cost_rep=[]\n",
    "cost_man=[]\n",
    "count=0\n",
    "for i in tm:\n",
    "    for j in t:\n",
    "        if j<=i:\n",
    "            R=cr/j\n",
    "            cost_rep.append(R)\n",
    "        else:\n",
    "            R=cm/i\n",
    "            cost_man.append(R)"
   ]
  },
  {
   "cell_type": "markdown",
   "metadata": {
    "id": "V4_N9s5L0t4y"
   },
   "source": [
    "Analytically compute at what time tm we should schedule preventative maintenance,\n",
    "to minimize the running cost of the pump."
   ]
  },
  {
   "cell_type": "code",
   "execution_count": 17,
   "metadata": {
    "colab": {
     "base_uri": "https://localhost:8080/"
    },
    "id": "W_UYofwlV-L4",
    "outputId": "85c751fb-bd75-4a39-d3aa-e8a22d352af0"
   },
   "outputs": [
    {
     "name": "stdout",
     "output_type": "stream",
     "text": [
      "cost = 0.5 and tm =100\n"
     ]
    }
   ],
   "source": [
    "for i in cost_man:\n",
    "    min=i\n",
    "    if i < min:\n",
    "        min=i\n",
    "index_cm=round(cost_man.index(min)/999)\n",
    "print('cost = {} and tm ={}'.format(min,tm[index_cm]))"
   ]
  }
 ],
 "metadata": {
  "colab": {
   "collapsed_sections": [],
   "name": "project.ipynb",
   "provenance": []
  },
  "kernelspec": {
   "display_name": "Python 3",
   "language": "python",
   "name": "python3"
  },
  "language_info": {
   "codemirror_mode": {
    "name": "ipython",
    "version": 3
   },
   "file_extension": ".py",
   "mimetype": "text/x-python",
   "name": "python",
   "nbconvert_exporter": "python",
   "pygments_lexer": "ipython3",
   "version": "3.8.8"
  }
 },
 "nbformat": 4,
 "nbformat_minor": 1
}

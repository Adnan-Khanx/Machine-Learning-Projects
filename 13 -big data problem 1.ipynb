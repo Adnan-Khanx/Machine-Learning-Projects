{
 "cells": [
  {
   "cell_type": "code",
   "execution_count": 1,
   "id": "outstanding-mercury",
   "metadata": {},
   "outputs": [],
   "source": [
    "import cx_Oracle\n",
    "import pandas as pd\n",
    "import seaborn as sns\n",
    "import matplotlib.pyplot as plt\n",
    "import numpy as np"
   ]
  },
  {
   "cell_type": "code",
   "execution_count": 3,
   "id": "engaging-queens",
   "metadata": {},
   "outputs": [],
   "source": [
    "dsn_tns = cx_Oracle.makedsn('localhost', '1521', service_name='orcl')\n",
    "conn = cx_Oracle.connect(user=r'*****', password='*****', dsn=dsn_tns)"
   ]
  },
  {
   "cell_type": "code",
   "execution_count": 4,
   "id": "behavioral-diving",
   "metadata": {},
   "outputs": [],
   "source": [
    "c = conn.cursor()\n",
    "c.execute('select * from crimes') \n",
    "for row in c:\n",
    "    pass\n",
    "#conn.close()"
   ]
  },
  {
   "cell_type": "code",
   "execution_count": 5,
   "id": "fantastic-brazilian",
   "metadata": {},
   "outputs": [
    {
     "data": {
      "text/html": [
       "<div>\n",
       "<style scoped>\n",
       "    .dataframe tbody tr th:only-of-type {\n",
       "        vertical-align: middle;\n",
       "    }\n",
       "\n",
       "    .dataframe tbody tr th {\n",
       "        vertical-align: top;\n",
       "    }\n",
       "\n",
       "    .dataframe thead th {\n",
       "        text-align: right;\n",
       "    }\n",
       "</style>\n",
       "<table border=\"1\" class=\"dataframe\">\n",
       "  <thead>\n",
       "    <tr style=\"text-align: right;\">\n",
       "      <th></th>\n",
       "      <th>MONTH</th>\n",
       "      <th>FORCE_ID</th>\n",
       "      <th>FORCES</th>\n",
       "      <th>NEIGHBOURHOOD</th>\n",
       "      <th>BURGLARY</th>\n",
       "      <th>ROBBERY</th>\n",
       "      <th>VEHICLE_CRIME</th>\n",
       "      <th>VIOLENT_CRIME</th>\n",
       "      <th>ANTISOCIAL_BEHAVIOUR</th>\n",
       "      <th>CRIMINAL_DAMAGE_AND_ARSON</th>\n",
       "      <th>SHOPLIFTING</th>\n",
       "    </tr>\n",
       "  </thead>\n",
       "  <tbody>\n",
       "    <tr>\n",
       "      <th>0</th>\n",
       "      <td>2013-06</td>\n",
       "      <td>1</td>\n",
       "      <td>Avon and Somerset Constabulary</td>\n",
       "      <td>JN310</td>\n",
       "      <td>1</td>\n",
       "      <td>0</td>\n",
       "      <td>2</td>\n",
       "      <td>0</td>\n",
       "      <td>0</td>\n",
       "      <td>0</td>\n",
       "      <td>0</td>\n",
       "    </tr>\n",
       "    <tr>\n",
       "      <th>1</th>\n",
       "      <td>2013-06</td>\n",
       "      <td>1</td>\n",
       "      <td>Avon and Somerset Constabulary</td>\n",
       "      <td>FW004</td>\n",
       "      <td>0</td>\n",
       "      <td>0</td>\n",
       "      <td>0</td>\n",
       "      <td>3</td>\n",
       "      <td>2</td>\n",
       "      <td>1</td>\n",
       "      <td>0</td>\n",
       "    </tr>\n",
       "    <tr>\n",
       "      <th>2</th>\n",
       "      <td>2013-06</td>\n",
       "      <td>1</td>\n",
       "      <td>Avon and Somerset Constabulary</td>\n",
       "      <td>JC205</td>\n",
       "      <td>0</td>\n",
       "      <td>0</td>\n",
       "      <td>3</td>\n",
       "      <td>2</td>\n",
       "      <td>16</td>\n",
       "      <td>1</td>\n",
       "      <td>0</td>\n",
       "    </tr>\n",
       "    <tr>\n",
       "      <th>3</th>\n",
       "      <td>2013-06</td>\n",
       "      <td>1</td>\n",
       "      <td>Avon and Somerset Constabulary</td>\n",
       "      <td>JW110</td>\n",
       "      <td>1</td>\n",
       "      <td>0</td>\n",
       "      <td>0</td>\n",
       "      <td>0</td>\n",
       "      <td>4</td>\n",
       "      <td>1</td>\n",
       "      <td>0</td>\n",
       "    </tr>\n",
       "    <tr>\n",
       "      <th>4</th>\n",
       "      <td>2013-06</td>\n",
       "      <td>1</td>\n",
       "      <td>Avon and Somerset Constabulary</td>\n",
       "      <td>JW112</td>\n",
       "      <td>0</td>\n",
       "      <td>0</td>\n",
       "      <td>2</td>\n",
       "      <td>0</td>\n",
       "      <td>9</td>\n",
       "      <td>1</td>\n",
       "      <td>0</td>\n",
       "    </tr>\n",
       "  </tbody>\n",
       "</table>\n",
       "</div>"
      ],
      "text/plain": [
       "     MONTH  FORCE_ID                          FORCES NEIGHBOURHOOD  BURGLARY  \\\n",
       "0  2013-06         1  Avon and Somerset Constabulary         JN310         1   \n",
       "1  2013-06         1  Avon and Somerset Constabulary         FW004         0   \n",
       "2  2013-06         1  Avon and Somerset Constabulary         JC205         0   \n",
       "3  2013-06         1  Avon and Somerset Constabulary         JW110         1   \n",
       "4  2013-06         1  Avon and Somerset Constabulary         JW112         0   \n",
       "\n",
       "   ROBBERY  VEHICLE_CRIME  VIOLENT_CRIME  ANTISOCIAL_BEHAVIOUR  \\\n",
       "0        0              2              0                     0   \n",
       "1        0              0              3                     2   \n",
       "2        0              3              2                    16   \n",
       "3        0              0              0                     4   \n",
       "4        0              2              0                     9   \n",
       "\n",
       "   CRIMINAL_DAMAGE_AND_ARSON  SHOPLIFTING  \n",
       "0                          0            0  \n",
       "1                          1            0  \n",
       "2                          1            0  \n",
       "3                          1            0  \n",
       "4                          1            0  "
      ]
     },
     "execution_count": 5,
     "metadata": {},
     "output_type": "execute_result"
    }
   ],
   "source": [
    "df_sql=pd.read_sql('''\n",
    "select * from crimes\n",
    "''',conn)\n",
    "df_sql.head()"
   ]
  },
  {
   "cell_type": "code",
   "execution_count": 17,
   "id": "sublime-northern",
   "metadata": {},
   "outputs": [
    {
     "data": {
      "text/html": [
       "<div>\n",
       "<style scoped>\n",
       "    .dataframe tbody tr th:only-of-type {\n",
       "        vertical-align: middle;\n",
       "    }\n",
       "\n",
       "    .dataframe tbody tr th {\n",
       "        vertical-align: top;\n",
       "    }\n",
       "\n",
       "    .dataframe thead th {\n",
       "        text-align: right;\n",
       "    }\n",
       "</style>\n",
       "<table border=\"1\" class=\"dataframe\">\n",
       "  <thead>\n",
       "    <tr style=\"text-align: right;\">\n",
       "      <th></th>\n",
       "      <th>OTHER_CRIMES</th>\n",
       "    </tr>\n",
       "  </thead>\n",
       "  <tbody>\n",
       "  </tbody>\n",
       "</table>\n",
       "</div>"
      ],
      "text/plain": [
       "Empty DataFrame\n",
       "Columns: [OTHER_CRIMES]\n",
       "Index: []"
      ]
     },
     "execution_count": 17,
     "metadata": {},
     "output_type": "execute_result"
    }
   ],
   "source": [
    "df_sqls=pd.read_sql('''\n",
    "select * from CRIME_JSON_THIRD\n",
    "''',conn)\n",
    "df_sqls.head()"
   ]
  },
  {
   "cell_type": "code",
   "execution_count": 7,
   "id": "associate-listing",
   "metadata": {},
   "outputs": [
    {
     "ename": "IndexError",
     "evalue": "index 0 is out of bounds for axis 0 with size 0",
     "output_type": "error",
     "traceback": [
      "\u001b[1;31m---------------------------------------------------------------------------\u001b[0m",
      "\u001b[1;31mIndexError\u001b[0m                                Traceback (most recent call last)",
      "\u001b[1;32m<ipython-input-7-a4343b622b8f>\u001b[0m in \u001b[0;36m<module>\u001b[1;34m\u001b[0m\n\u001b[1;32m----> 1\u001b[1;33m \u001b[0mtype\u001b[0m\u001b[1;33m(\u001b[0m\u001b[0mdf_sqls\u001b[0m\u001b[1;33m.\u001b[0m\u001b[0mOTHER_CRIMES\u001b[0m\u001b[1;33m[\u001b[0m\u001b[1;36m0\u001b[0m\u001b[1;33m]\u001b[0m\u001b[1;33m)\u001b[0m\u001b[1;33m\u001b[0m\u001b[1;33m\u001b[0m\u001b[0m\n\u001b[0m",
      "\u001b[1;32mD:\\installations\\anaconda\\envs\\tensorflows\\lib\\site-packages\\pandas\\core\\series.py\u001b[0m in \u001b[0;36m__getitem__\u001b[1;34m(self, key)\u001b[0m\n\u001b[0;32m    877\u001b[0m \u001b[1;33m\u001b[0m\u001b[0m\n\u001b[0;32m    878\u001b[0m         \u001b[1;32mif\u001b[0m \u001b[0mis_integer\u001b[0m\u001b[1;33m(\u001b[0m\u001b[0mkey\u001b[0m\u001b[1;33m)\u001b[0m \u001b[1;32mand\u001b[0m \u001b[0mself\u001b[0m\u001b[1;33m.\u001b[0m\u001b[0mindex\u001b[0m\u001b[1;33m.\u001b[0m\u001b[0m_should_fallback_to_positional\u001b[0m\u001b[1;33m(\u001b[0m\u001b[1;33m)\u001b[0m\u001b[1;33m:\u001b[0m\u001b[1;33m\u001b[0m\u001b[1;33m\u001b[0m\u001b[0m\n\u001b[1;32m--> 879\u001b[1;33m             \u001b[1;32mreturn\u001b[0m \u001b[0mself\u001b[0m\u001b[1;33m.\u001b[0m\u001b[0m_values\u001b[0m\u001b[1;33m[\u001b[0m\u001b[0mkey\u001b[0m\u001b[1;33m]\u001b[0m\u001b[1;33m\u001b[0m\u001b[1;33m\u001b[0m\u001b[0m\n\u001b[0m\u001b[0;32m    880\u001b[0m \u001b[1;33m\u001b[0m\u001b[0m\n\u001b[0;32m    881\u001b[0m         \u001b[1;32melif\u001b[0m \u001b[0mkey_is_scalar\u001b[0m\u001b[1;33m:\u001b[0m\u001b[1;33m\u001b[0m\u001b[1;33m\u001b[0m\u001b[0m\n",
      "\u001b[1;31mIndexError\u001b[0m: index 0 is out of bounds for axis 0 with size 0"
     ]
    }
   ],
   "source": [
    "type(df_sqls.OTHER_CRIMES[0])"
   ]
  },
  {
   "cell_type": "code",
   "execution_count": 8,
   "id": "compatible-investing",
   "metadata": {},
   "outputs": [],
   "source": [
    "df=pd.DataFrame()"
   ]
  },
  {
   "cell_type": "code",
   "execution_count": 11,
   "id": "broadband-vitamin",
   "metadata": {},
   "outputs": [],
   "source": [
    "c = conn.cursor()\n",
    "c.execute('select * from CRIME_JSON_SECOND') # use triple quotes if you want to spread your query across multiple lines\n",
    "for row in c:\n",
    "    df_tmp = pd.DataFrame([[row[0].read()]],\n",
    "                        columns=[\"other_crimes\"])\n",
    "    df = df.append(df_tmp, ignore_index=True)"
   ]
  },
  {
   "cell_type": "code",
   "execution_count": 12,
   "id": "original-preservation",
   "metadata": {},
   "outputs": [
    {
     "data": {
      "text/html": [
       "<div>\n",
       "<style scoped>\n",
       "    .dataframe tbody tr th:only-of-type {\n",
       "        vertical-align: middle;\n",
       "    }\n",
       "\n",
       "    .dataframe tbody tr th {\n",
       "        vertical-align: top;\n",
       "    }\n",
       "\n",
       "    .dataframe thead th {\n",
       "        text-align: right;\n",
       "    }\n",
       "</style>\n",
       "<table border=\"1\" class=\"dataframe\">\n",
       "  <thead>\n",
       "    <tr style=\"text-align: right;\">\n",
       "      <th></th>\n",
       "    </tr>\n",
       "  </thead>\n",
       "  <tbody>\n",
       "  </tbody>\n",
       "</table>\n",
       "</div>"
      ],
      "text/plain": [
       "Empty DataFrame\n",
       "Columns: []\n",
       "Index: []"
      ]
     },
     "execution_count": 12,
     "metadata": {},
     "output_type": "execute_result"
    }
   ],
   "source": [
    "df.head()"
   ]
  },
  {
   "cell_type": "code",
   "execution_count": 13,
   "id": "peaceful-popularity",
   "metadata": {},
   "outputs": [],
   "source": [
    "df=df.replace('\\n',' ',regex=True)"
   ]
  },
  {
   "cell_type": "code",
   "execution_count": 14,
   "id": "impressed-movement",
   "metadata": {},
   "outputs": [
    {
     "data": {
      "text/plain": [
       "'remove=string.punctuation\\nremove = remove.replace(\":\", \"\") # don\\'t remove hyphens\\nremove = remove.replace(\",\", \"\")\\npattern = r\"[{}]\".format(remove)\\n'"
      ]
     },
     "execution_count": 14,
     "metadata": {},
     "output_type": "execute_result"
    }
   ],
   "source": [
    "import string\n",
    "import re\n",
    "\n",
    "'''remove=string.punctuation\n",
    "remove = remove.replace(\":\", \"\") # don't remove hyphens\n",
    "remove = remove.replace(\",\", \"\")\n",
    "pattern = r\"[{}]\".format(remove)\n",
    "'''"
   ]
  },
  {
   "cell_type": "code",
   "execution_count": 15,
   "id": "gentle-sheriff",
   "metadata": {},
   "outputs": [],
   "source": [
    "pattern=['{','}','\"','\"']"
   ]
  },
  {
   "cell_type": "code",
   "execution_count": 16,
   "id": "loose-birth",
   "metadata": {},
   "outputs": [],
   "source": [
    "df=df.replace(pattern,'',regex=True)"
   ]
  },
  {
   "cell_type": "code",
   "execution_count": null,
   "id": "interim-republic",
   "metadata": {},
   "outputs": [],
   "source": []
  },
  {
   "cell_type": "code",
   "execution_count": 12,
   "id": "comparable-updating",
   "metadata": {},
   "outputs": [
    {
     "data": {
      "text/plain": [
       "pandas.core.frame.DataFrame"
      ]
     },
     "execution_count": 12,
     "metadata": {},
     "output_type": "execute_result"
    }
   ],
   "source": [
    "type(df)"
   ]
  },
  {
   "cell_type": "code",
   "execution_count": 13,
   "id": "comic-blind",
   "metadata": {},
   "outputs": [],
   "source": [
    "import numpy as np\n",
    "def get_force_id(other_crimes):\n",
    "    \n",
    "    try:\n",
    "        return other_crimes.split('Force_id')[1].split(',')[0].split(':')[1].strip()\n",
    "    except:\n",
    "        return False\n",
    "def get_neighbourhood(other_crimes):\n",
    "    try:\n",
    "        return other_crimes.split('Neighbourhood')[1].split(',')[0].split(':')[1].strip()\n",
    "    except:\n",
    "        return False\n",
    "def get_public_disorder(other_crimes):\n",
    "    try:\n",
    "        return other_crimes.split('Public disorder and weapons')[1].split(',')[0].split(':')[1].strip()\n",
    "    except:\n",
    "        return False\n",
    "def get_other_crimes(other_crimes):\n",
    "    try:\n",
    "        return other_crimes.split('Other crime')[1].split(',')[0].split(':')[1].strip()\n",
    "    except:\n",
    "        return False"
   ]
  },
  {
   "cell_type": "code",
   "execution_count": 14,
   "id": "acting-lloyd",
   "metadata": {},
   "outputs": [],
   "source": [
    "df['FORCE_ID']=df.other_crimes.apply(get_force_id).astype(int)\n",
    "df['NEIGHBOURHOOD']=df.other_crimes.apply(get_neighbourhood)\n",
    "df['PUBLIC_DISORDER_AND_WEAPONS']=df.other_crimes.apply(get_public_disorder).astype(int)\n",
    "df['OTHER_CRIME']=df.other_crimes.apply(get_other_crimes).astype(int)"
   ]
  },
  {
   "cell_type": "code",
   "execution_count": 15,
   "id": "coordinate-panama",
   "metadata": {},
   "outputs": [],
   "source": [
    "df.drop('other_crimes',axis=1,inplace=True)"
   ]
  },
  {
   "cell_type": "code",
   "execution_count": 16,
   "id": "competitive-observation",
   "metadata": {},
   "outputs": [
    {
     "data": {
      "text/html": [
       "<div>\n",
       "<style scoped>\n",
       "    .dataframe tbody tr th:only-of-type {\n",
       "        vertical-align: middle;\n",
       "    }\n",
       "\n",
       "    .dataframe tbody tr th {\n",
       "        vertical-align: top;\n",
       "    }\n",
       "\n",
       "    .dataframe thead th {\n",
       "        text-align: right;\n",
       "    }\n",
       "</style>\n",
       "<table border=\"1\" class=\"dataframe\">\n",
       "  <thead>\n",
       "    <tr style=\"text-align: right;\">\n",
       "      <th></th>\n",
       "      <th>FORCE_ID</th>\n",
       "      <th>NEIGHBOURHOOD</th>\n",
       "      <th>PUBLIC_DISORDER_AND_WEAPONS</th>\n",
       "      <th>OTHER_CRIME</th>\n",
       "    </tr>\n",
       "  </thead>\n",
       "  <tbody>\n",
       "    <tr>\n",
       "      <th>0</th>\n",
       "      <td>1</td>\n",
       "      <td>JN310</td>\n",
       "      <td>0</td>\n",
       "      <td>0</td>\n",
       "    </tr>\n",
       "    <tr>\n",
       "      <th>1</th>\n",
       "      <td>1</td>\n",
       "      <td>FW004</td>\n",
       "      <td>0</td>\n",
       "      <td>0</td>\n",
       "    </tr>\n",
       "    <tr>\n",
       "      <th>2</th>\n",
       "      <td>1</td>\n",
       "      <td>JC205</td>\n",
       "      <td>0</td>\n",
       "      <td>0</td>\n",
       "    </tr>\n",
       "    <tr>\n",
       "      <th>3</th>\n",
       "      <td>1</td>\n",
       "      <td>JW110</td>\n",
       "      <td>0</td>\n",
       "      <td>0</td>\n",
       "    </tr>\n",
       "    <tr>\n",
       "      <th>4</th>\n",
       "      <td>1</td>\n",
       "      <td>JW112</td>\n",
       "      <td>0</td>\n",
       "      <td>0</td>\n",
       "    </tr>\n",
       "  </tbody>\n",
       "</table>\n",
       "</div>"
      ],
      "text/plain": [
       "   FORCE_ID NEIGHBOURHOOD  PUBLIC_DISORDER_AND_WEAPONS  OTHER_CRIME\n",
       "0         1         JN310                            0            0\n",
       "1         1         FW004                            0            0\n",
       "2         1         JC205                            0            0\n",
       "3         1         JW110                            0            0\n",
       "4         1         JW112                            0            0"
      ]
     },
     "execution_count": 16,
     "metadata": {},
     "output_type": "execute_result"
    }
   ],
   "source": [
    "df.head()"
   ]
  },
  {
   "cell_type": "code",
   "execution_count": 17,
   "id": "authorized-coverage",
   "metadata": {},
   "outputs": [
    {
     "data": {
      "text/plain": [
       "FORCE_ID                        int32\n",
       "NEIGHBOURHOOD                  object\n",
       "PUBLIC_DISORDER_AND_WEAPONS     int32\n",
       "OTHER_CRIME                     int32\n",
       "dtype: object"
      ]
     },
     "execution_count": 17,
     "metadata": {},
     "output_type": "execute_result"
    }
   ],
   "source": [
    "df.dtypes"
   ]
  },
  {
   "cell_type": "code",
   "execution_count": 18,
   "id": "biological-assignment",
   "metadata": {},
   "outputs": [
    {
     "data": {
      "text/plain": [
       "MONTH                        object\n",
       "FORCE_ID                      int64\n",
       "FORCES                       object\n",
       "NEIGHBOURHOOD                object\n",
       "BURGLARY                      int64\n",
       "ROBBERY                       int64\n",
       "VEHICLE_CRIME                 int64\n",
       "VIOLENT_CRIME                 int64\n",
       "ANTISOCIAL_BEHAVIOUR          int64\n",
       "CRIMINAL_DAMAGE_AND_ARSON     int64\n",
       "SHOPLIFTING                   int64\n",
       "dtype: object"
      ]
     },
     "execution_count": 18,
     "metadata": {},
     "output_type": "execute_result"
    }
   ],
   "source": [
    "df_sql.dtypes"
   ]
  },
  {
   "cell_type": "code",
   "execution_count": 19,
   "id": "magnetic-seminar",
   "metadata": {},
   "outputs": [],
   "source": [
    "df_comb=pd.merge(df_sql,df,how='left',on=['NEIGHBOURHOOD','FORCE_ID'])"
   ]
  },
  {
   "cell_type": "code",
   "execution_count": 20,
   "id": "divided-recording",
   "metadata": {},
   "outputs": [
    {
     "data": {
      "text/html": [
       "<div>\n",
       "<style scoped>\n",
       "    .dataframe tbody tr th:only-of-type {\n",
       "        vertical-align: middle;\n",
       "    }\n",
       "\n",
       "    .dataframe tbody tr th {\n",
       "        vertical-align: top;\n",
       "    }\n",
       "\n",
       "    .dataframe thead th {\n",
       "        text-align: right;\n",
       "    }\n",
       "</style>\n",
       "<table border=\"1\" class=\"dataframe\">\n",
       "  <thead>\n",
       "    <tr style=\"text-align: right;\">\n",
       "      <th></th>\n",
       "      <th>MONTH</th>\n",
       "      <th>FORCE_ID</th>\n",
       "      <th>FORCES</th>\n",
       "      <th>NEIGHBOURHOOD</th>\n",
       "      <th>BURGLARY</th>\n",
       "      <th>ROBBERY</th>\n",
       "      <th>VEHICLE_CRIME</th>\n",
       "      <th>VIOLENT_CRIME</th>\n",
       "      <th>ANTISOCIAL_BEHAVIOUR</th>\n",
       "      <th>CRIMINAL_DAMAGE_AND_ARSON</th>\n",
       "      <th>SHOPLIFTING</th>\n",
       "      <th>PUBLIC_DISORDER_AND_WEAPONS</th>\n",
       "      <th>OTHER_CRIME</th>\n",
       "    </tr>\n",
       "  </thead>\n",
       "  <tbody>\n",
       "    <tr>\n",
       "      <th>0</th>\n",
       "      <td>2013-06</td>\n",
       "      <td>1</td>\n",
       "      <td>Avon and Somerset Constabulary</td>\n",
       "      <td>JN310</td>\n",
       "      <td>1</td>\n",
       "      <td>0</td>\n",
       "      <td>2</td>\n",
       "      <td>0</td>\n",
       "      <td>0</td>\n",
       "      <td>0</td>\n",
       "      <td>0</td>\n",
       "      <td>0.0</td>\n",
       "      <td>0.0</td>\n",
       "    </tr>\n",
       "    <tr>\n",
       "      <th>1</th>\n",
       "      <td>2013-06</td>\n",
       "      <td>1</td>\n",
       "      <td>Avon and Somerset Constabulary</td>\n",
       "      <td>FW004</td>\n",
       "      <td>0</td>\n",
       "      <td>0</td>\n",
       "      <td>0</td>\n",
       "      <td>3</td>\n",
       "      <td>2</td>\n",
       "      <td>1</td>\n",
       "      <td>0</td>\n",
       "      <td>0.0</td>\n",
       "      <td>0.0</td>\n",
       "    </tr>\n",
       "    <tr>\n",
       "      <th>2</th>\n",
       "      <td>2013-06</td>\n",
       "      <td>1</td>\n",
       "      <td>Avon and Somerset Constabulary</td>\n",
       "      <td>JC205</td>\n",
       "      <td>0</td>\n",
       "      <td>0</td>\n",
       "      <td>3</td>\n",
       "      <td>2</td>\n",
       "      <td>16</td>\n",
       "      <td>1</td>\n",
       "      <td>0</td>\n",
       "      <td>0.0</td>\n",
       "      <td>0.0</td>\n",
       "    </tr>\n",
       "    <tr>\n",
       "      <th>3</th>\n",
       "      <td>2013-06</td>\n",
       "      <td>1</td>\n",
       "      <td>Avon and Somerset Constabulary</td>\n",
       "      <td>JW110</td>\n",
       "      <td>1</td>\n",
       "      <td>0</td>\n",
       "      <td>0</td>\n",
       "      <td>0</td>\n",
       "      <td>4</td>\n",
       "      <td>1</td>\n",
       "      <td>0</td>\n",
       "      <td>0.0</td>\n",
       "      <td>0.0</td>\n",
       "    </tr>\n",
       "    <tr>\n",
       "      <th>4</th>\n",
       "      <td>2013-06</td>\n",
       "      <td>1</td>\n",
       "      <td>Avon and Somerset Constabulary</td>\n",
       "      <td>JW112</td>\n",
       "      <td>0</td>\n",
       "      <td>0</td>\n",
       "      <td>2</td>\n",
       "      <td>0</td>\n",
       "      <td>9</td>\n",
       "      <td>1</td>\n",
       "      <td>0</td>\n",
       "      <td>0.0</td>\n",
       "      <td>0.0</td>\n",
       "    </tr>\n",
       "  </tbody>\n",
       "</table>\n",
       "</div>"
      ],
      "text/plain": [
       "     MONTH  FORCE_ID                          FORCES NEIGHBOURHOOD  BURGLARY  \\\n",
       "0  2013-06         1  Avon and Somerset Constabulary         JN310         1   \n",
       "1  2013-06         1  Avon and Somerset Constabulary         FW004         0   \n",
       "2  2013-06         1  Avon and Somerset Constabulary         JC205         0   \n",
       "3  2013-06         1  Avon and Somerset Constabulary         JW110         1   \n",
       "4  2013-06         1  Avon and Somerset Constabulary         JW112         0   \n",
       "\n",
       "   ROBBERY  VEHICLE_CRIME  VIOLENT_CRIME  ANTISOCIAL_BEHAVIOUR  \\\n",
       "0        0              2              0                     0   \n",
       "1        0              0              3                     2   \n",
       "2        0              3              2                    16   \n",
       "3        0              0              0                     4   \n",
       "4        0              2              0                     9   \n",
       "\n",
       "   CRIMINAL_DAMAGE_AND_ARSON  SHOPLIFTING  PUBLIC_DISORDER_AND_WEAPONS  \\\n",
       "0                          0            0                          0.0   \n",
       "1                          1            0                          0.0   \n",
       "2                          1            0                          0.0   \n",
       "3                          1            0                          0.0   \n",
       "4                          1            0                          0.0   \n",
       "\n",
       "   OTHER_CRIME  \n",
       "0          0.0  \n",
       "1          0.0  \n",
       "2          0.0  \n",
       "3          0.0  \n",
       "4          0.0  "
      ]
     },
     "execution_count": 20,
     "metadata": {},
     "output_type": "execute_result"
    }
   ],
   "source": [
    "df_comb.head()"
   ]
  },
  {
   "cell_type": "code",
   "execution_count": 21,
   "id": "horizontal-superior",
   "metadata": {},
   "outputs": [
    {
     "data": {
      "text/html": [
       "<div>\n",
       "<style scoped>\n",
       "    .dataframe tbody tr th:only-of-type {\n",
       "        vertical-align: middle;\n",
       "    }\n",
       "\n",
       "    .dataframe tbody tr th {\n",
       "        vertical-align: top;\n",
       "    }\n",
       "\n",
       "    .dataframe thead th {\n",
       "        text-align: right;\n",
       "    }\n",
       "</style>\n",
       "<table border=\"1\" class=\"dataframe\">\n",
       "  <thead>\n",
       "    <tr style=\"text-align: right;\">\n",
       "      <th></th>\n",
       "      <th>MONTH</th>\n",
       "      <th>FORCE_ID</th>\n",
       "      <th>FORCES</th>\n",
       "      <th>NEIGHBOURHOOD</th>\n",
       "      <th>BURGLARY</th>\n",
       "      <th>ROBBERY</th>\n",
       "      <th>VEHICLE_CRIME</th>\n",
       "      <th>VIOLENT_CRIME</th>\n",
       "      <th>ANTISOCIAL_BEHAVIOUR</th>\n",
       "      <th>CRIMINAL_DAMAGE_AND_ARSON</th>\n",
       "      <th>SHOPLIFTING</th>\n",
       "      <th>PUBLIC_DISORDER_AND_WEAPONS</th>\n",
       "      <th>OTHER_CRIME</th>\n",
       "    </tr>\n",
       "  </thead>\n",
       "  <tbody>\n",
       "    <tr>\n",
       "      <th>461</th>\n",
       "      <td>2013-06</td>\n",
       "      <td>1</td>\n",
       "      <td>Avon and Somerset Constabulary</td>\n",
       "      <td>FS005</td>\n",
       "      <td>0</td>\n",
       "      <td>0</td>\n",
       "      <td>0</td>\n",
       "      <td>0</td>\n",
       "      <td>2</td>\n",
       "      <td>1</td>\n",
       "      <td>0</td>\n",
       "      <td>NaN</td>\n",
       "      <td>NaN</td>\n",
       "    </tr>\n",
       "    <tr>\n",
       "      <th>462</th>\n",
       "      <td>2013-06</td>\n",
       "      <td>1</td>\n",
       "      <td>Avon and Somerset Constabulary</td>\n",
       "      <td>GT008</td>\n",
       "      <td>1</td>\n",
       "      <td>0</td>\n",
       "      <td>3</td>\n",
       "      <td>2</td>\n",
       "      <td>8</td>\n",
       "      <td>0</td>\n",
       "      <td>0</td>\n",
       "      <td>NaN</td>\n",
       "      <td>NaN</td>\n",
       "    </tr>\n",
       "    <tr>\n",
       "      <th>463</th>\n",
       "      <td>2013-06</td>\n",
       "      <td>1</td>\n",
       "      <td>Avon and Somerset Constabulary</td>\n",
       "      <td>GT009</td>\n",
       "      <td>0</td>\n",
       "      <td>0</td>\n",
       "      <td>3</td>\n",
       "      <td>0</td>\n",
       "      <td>4</td>\n",
       "      <td>0</td>\n",
       "      <td>0</td>\n",
       "      <td>NaN</td>\n",
       "      <td>NaN</td>\n",
       "    </tr>\n",
       "    <tr>\n",
       "      <th>464</th>\n",
       "      <td>2013-06</td>\n",
       "      <td>1</td>\n",
       "      <td>Avon and Somerset Constabulary</td>\n",
       "      <td>GT006</td>\n",
       "      <td>0</td>\n",
       "      <td>0</td>\n",
       "      <td>0</td>\n",
       "      <td>1</td>\n",
       "      <td>0</td>\n",
       "      <td>0</td>\n",
       "      <td>0</td>\n",
       "      <td>NaN</td>\n",
       "      <td>NaN</td>\n",
       "    </tr>\n",
       "    <tr>\n",
       "      <th>465</th>\n",
       "      <td>2013-06</td>\n",
       "      <td>1</td>\n",
       "      <td>Avon and Somerset Constabulary</td>\n",
       "      <td>GT007</td>\n",
       "      <td>1</td>\n",
       "      <td>0</td>\n",
       "      <td>2</td>\n",
       "      <td>1</td>\n",
       "      <td>17</td>\n",
       "      <td>0</td>\n",
       "      <td>1</td>\n",
       "      <td>NaN</td>\n",
       "      <td>NaN</td>\n",
       "    </tr>\n",
       "  </tbody>\n",
       "</table>\n",
       "</div>"
      ],
      "text/plain": [
       "       MONTH  FORCE_ID                          FORCES NEIGHBOURHOOD  \\\n",
       "461  2013-06         1  Avon and Somerset Constabulary         FS005   \n",
       "462  2013-06         1  Avon and Somerset Constabulary         GT008   \n",
       "463  2013-06         1  Avon and Somerset Constabulary         GT009   \n",
       "464  2013-06         1  Avon and Somerset Constabulary         GT006   \n",
       "465  2013-06         1  Avon and Somerset Constabulary         GT007   \n",
       "\n",
       "     BURGLARY  ROBBERY  VEHICLE_CRIME  VIOLENT_CRIME  ANTISOCIAL_BEHAVIOUR  \\\n",
       "461         0        0              0              0                     2   \n",
       "462         1        0              3              2                     8   \n",
       "463         0        0              3              0                     4   \n",
       "464         0        0              0              1                     0   \n",
       "465         1        0              2              1                    17   \n",
       "\n",
       "     CRIMINAL_DAMAGE_AND_ARSON  SHOPLIFTING  PUBLIC_DISORDER_AND_WEAPONS  \\\n",
       "461                          1            0                          NaN   \n",
       "462                          0            0                          NaN   \n",
       "463                          0            0                          NaN   \n",
       "464                          0            0                          NaN   \n",
       "465                          0            1                          NaN   \n",
       "\n",
       "     OTHER_CRIME  \n",
       "461          NaN  \n",
       "462          NaN  \n",
       "463          NaN  \n",
       "464          NaN  \n",
       "465          NaN  "
      ]
     },
     "execution_count": 21,
     "metadata": {},
     "output_type": "execute_result"
    }
   ],
   "source": [
    "df_comb.tail()"
   ]
  },
  {
   "cell_type": "code",
   "execution_count": 22,
   "id": "voluntary-vietnam",
   "metadata": {},
   "outputs": [],
   "source": [
    "df=df_comb.dropna()"
   ]
  },
  {
   "cell_type": "code",
   "execution_count": 23,
   "id": "egyptian-specialist",
   "metadata": {},
   "outputs": [],
   "source": [
    "# df=df.set_index('MONTH')"
   ]
  },
  {
   "cell_type": "code",
   "execution_count": 24,
   "id": "cordless-reservoir",
   "metadata": {},
   "outputs": [
    {
     "name": "stderr",
     "output_type": "stream",
     "text": [
      "D:\\installations\\anaconda\\envs\\tensorflows\\lib\\site-packages\\ipykernel_launcher.py:1: SettingWithCopyWarning: \n",
      "A value is trying to be set on a copy of a slice from a DataFrame.\n",
      "Try using .loc[row_indexer,col_indexer] = value instead\n",
      "\n",
      "See the caveats in the documentation: https://pandas.pydata.org/pandas-docs/stable/user_guide/indexing.html#returning-a-view-versus-a-copy\n",
      "  \"\"\"Entry point for launching an IPython kernel.\n"
     ]
    }
   ],
   "source": [
    "df['no_of_overall_crime']=df.iloc[:,4:].sum(axis=1)"
   ]
  },
  {
   "cell_type": "code",
   "execution_count": 25,
   "id": "thermal-substitute",
   "metadata": {},
   "outputs": [
    {
     "data": {
      "text/html": [
       "<div>\n",
       "<style scoped>\n",
       "    .dataframe tbody tr th:only-of-type {\n",
       "        vertical-align: middle;\n",
       "    }\n",
       "\n",
       "    .dataframe tbody tr th {\n",
       "        vertical-align: top;\n",
       "    }\n",
       "\n",
       "    .dataframe thead th {\n",
       "        text-align: right;\n",
       "    }\n",
       "</style>\n",
       "<table border=\"1\" class=\"dataframe\">\n",
       "  <thead>\n",
       "    <tr style=\"text-align: right;\">\n",
       "      <th></th>\n",
       "      <th>MONTH</th>\n",
       "      <th>FORCE_ID</th>\n",
       "      <th>FORCES</th>\n",
       "      <th>NEIGHBOURHOOD</th>\n",
       "      <th>BURGLARY</th>\n",
       "      <th>ROBBERY</th>\n",
       "      <th>VEHICLE_CRIME</th>\n",
       "      <th>VIOLENT_CRIME</th>\n",
       "      <th>ANTISOCIAL_BEHAVIOUR</th>\n",
       "      <th>CRIMINAL_DAMAGE_AND_ARSON</th>\n",
       "      <th>SHOPLIFTING</th>\n",
       "      <th>PUBLIC_DISORDER_AND_WEAPONS</th>\n",
       "      <th>OTHER_CRIME</th>\n",
       "      <th>no_of_overall_crime</th>\n",
       "    </tr>\n",
       "  </thead>\n",
       "  <tbody>\n",
       "    <tr>\n",
       "      <th>0</th>\n",
       "      <td>2013-06</td>\n",
       "      <td>1</td>\n",
       "      <td>Avon and Somerset Constabulary</td>\n",
       "      <td>JN310</td>\n",
       "      <td>1</td>\n",
       "      <td>0</td>\n",
       "      <td>2</td>\n",
       "      <td>0</td>\n",
       "      <td>0</td>\n",
       "      <td>0</td>\n",
       "      <td>0</td>\n",
       "      <td>0.0</td>\n",
       "      <td>0.0</td>\n",
       "      <td>3.0</td>\n",
       "    </tr>\n",
       "    <tr>\n",
       "      <th>1</th>\n",
       "      <td>2013-06</td>\n",
       "      <td>1</td>\n",
       "      <td>Avon and Somerset Constabulary</td>\n",
       "      <td>FW004</td>\n",
       "      <td>0</td>\n",
       "      <td>0</td>\n",
       "      <td>0</td>\n",
       "      <td>3</td>\n",
       "      <td>2</td>\n",
       "      <td>1</td>\n",
       "      <td>0</td>\n",
       "      <td>0.0</td>\n",
       "      <td>0.0</td>\n",
       "      <td>6.0</td>\n",
       "    </tr>\n",
       "    <tr>\n",
       "      <th>2</th>\n",
       "      <td>2013-06</td>\n",
       "      <td>1</td>\n",
       "      <td>Avon and Somerset Constabulary</td>\n",
       "      <td>JC205</td>\n",
       "      <td>0</td>\n",
       "      <td>0</td>\n",
       "      <td>3</td>\n",
       "      <td>2</td>\n",
       "      <td>16</td>\n",
       "      <td>1</td>\n",
       "      <td>0</td>\n",
       "      <td>0.0</td>\n",
       "      <td>0.0</td>\n",
       "      <td>22.0</td>\n",
       "    </tr>\n",
       "    <tr>\n",
       "      <th>3</th>\n",
       "      <td>2013-06</td>\n",
       "      <td>1</td>\n",
       "      <td>Avon and Somerset Constabulary</td>\n",
       "      <td>JW110</td>\n",
       "      <td>1</td>\n",
       "      <td>0</td>\n",
       "      <td>0</td>\n",
       "      <td>0</td>\n",
       "      <td>4</td>\n",
       "      <td>1</td>\n",
       "      <td>0</td>\n",
       "      <td>0.0</td>\n",
       "      <td>0.0</td>\n",
       "      <td>6.0</td>\n",
       "    </tr>\n",
       "    <tr>\n",
       "      <th>4</th>\n",
       "      <td>2013-06</td>\n",
       "      <td>1</td>\n",
       "      <td>Avon and Somerset Constabulary</td>\n",
       "      <td>JW112</td>\n",
       "      <td>0</td>\n",
       "      <td>0</td>\n",
       "      <td>2</td>\n",
       "      <td>0</td>\n",
       "      <td>9</td>\n",
       "      <td>1</td>\n",
       "      <td>0</td>\n",
       "      <td>0.0</td>\n",
       "      <td>0.0</td>\n",
       "      <td>12.0</td>\n",
       "    </tr>\n",
       "  </tbody>\n",
       "</table>\n",
       "</div>"
      ],
      "text/plain": [
       "     MONTH  FORCE_ID                          FORCES NEIGHBOURHOOD  BURGLARY  \\\n",
       "0  2013-06         1  Avon and Somerset Constabulary         JN310         1   \n",
       "1  2013-06         1  Avon and Somerset Constabulary         FW004         0   \n",
       "2  2013-06         1  Avon and Somerset Constabulary         JC205         0   \n",
       "3  2013-06         1  Avon and Somerset Constabulary         JW110         1   \n",
       "4  2013-06         1  Avon and Somerset Constabulary         JW112         0   \n",
       "\n",
       "   ROBBERY  VEHICLE_CRIME  VIOLENT_CRIME  ANTISOCIAL_BEHAVIOUR  \\\n",
       "0        0              2              0                     0   \n",
       "1        0              0              3                     2   \n",
       "2        0              3              2                    16   \n",
       "3        0              0              0                     4   \n",
       "4        0              2              0                     9   \n",
       "\n",
       "   CRIMINAL_DAMAGE_AND_ARSON  SHOPLIFTING  PUBLIC_DISORDER_AND_WEAPONS  \\\n",
       "0                          0            0                          0.0   \n",
       "1                          1            0                          0.0   \n",
       "2                          1            0                          0.0   \n",
       "3                          1            0                          0.0   \n",
       "4                          1            0                          0.0   \n",
       "\n",
       "   OTHER_CRIME  no_of_overall_crime  \n",
       "0          0.0                  3.0  \n",
       "1          0.0                  6.0  \n",
       "2          0.0                 22.0  \n",
       "3          0.0                  6.0  \n",
       "4          0.0                 12.0  "
      ]
     },
     "execution_count": 25,
     "metadata": {},
     "output_type": "execute_result"
    }
   ],
   "source": [
    "df.head()"
   ]
  },
  {
   "cell_type": "code",
   "execution_count": 33,
   "id": "focal-pharmacology",
   "metadata": {},
   "outputs": [
    {
     "data": {
      "image/png": "[encoded data removed]",
      "text/plain": [
       "<Figure size 1080x576 with 1 Axes>"
      ]
     },
     "metadata": {
      "needs_background": "light"
     },
     "output_type": "display_data"
    }
   ],
   "source": [
    "plt.figure(figsize=(15,8))\n",
    "plt.barh('NEIGHBOURHOOD','no_of_overall_crime',data=df);\n",
    "plt.xlabel('total crimes')\n",
    "plt.ylabel('NEIGHBOURHOOD')\n",
    "plt.show()"
   ]
  },
  {
   "cell_type": "code",
   "execution_count": 38,
   "id": "nonprofit-harvest",
   "metadata": {},
   "outputs": [
    {
     "data": {
      "image/png": "[encoded data removed]",
      "text/plain": [
       "<Figure size 1080x576 with 1 Axes>"
      ]
     },
     "metadata": {
      "needs_background": "light"
     },
     "output_type": "display_data"
    }
   ],
   "source": [
    "plt.figure(figsize=(15,8))\n",
    "plt.barh('NEIGHBOURHOOD','VIOLENT_CRIME',data=df);\n",
    "plt.xlabel('Robberies')\n",
    "plt.ylabel('NEIGHBOURHOOD')\n",
    "plt.show()"
   ]
  },
  {
   "cell_type": "code",
   "execution_count": null,
   "id": "based-coating",
   "metadata": {},
   "outputs": [],
   "source": []
  },
  {
   "cell_type": "code",
   "execution_count": null,
   "id": "noticed-exhibition",
   "metadata": {},
   "outputs": [],
   "source": []
  }
 ],
 "metadata": {
  "kernelspec": {
   "display_name": "Python 3",
   "language": "python",
   "name": "python3"
  },
  "language_info": {
   "codemirror_mode": {
    "name": "ipython",
    "version": 3
   },
   "file_extension": ".py",
   "mimetype": "text/x-python",
   "name": "python",
   "nbconvert_exporter": "python",
   "pygments_lexer": "ipython3",
   "version": "3.8.8"
  }
 },
 "nbformat": 4,
 "nbformat_minor": 5
}

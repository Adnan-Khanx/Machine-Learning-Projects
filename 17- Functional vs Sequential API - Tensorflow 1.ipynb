{
 "cells": [
  {
   "cell_type": "markdown",
   "id": "96627546",
   "metadata": {},
   "source": [
    "# Youtube - Aladdin Persson\n",
    "https://www.youtube.com/watch?v=pAhPiF3yiXI&list=PLhhyoLH6IjfxVOdVC1P1L5z5azs0XjMsb&index=3"
   ]
  },
  {
   "cell_type": "code",
   "execution_count": 1,
   "id": "9162b456",
   "metadata": {},
   "outputs": [],
   "source": [
    "import tensorflow as tf\n",
    "from tensorflow import keras\n",
    "import datetime"
   ]
  },
  {
   "cell_type": "code",
   "execution_count": null,
   "id": "afa554e9",
   "metadata": {},
   "outputs": [],
   "source": [
    "%load_ext tensorboard"
   ]
  },
  {
   "cell_type": "code",
   "execution_count": 2,
   "id": "2c3f578b",
   "metadata": {},
   "outputs": [],
   "source": [
    "from tensorflow.keras.datasets import mnist\n",
    "(X_train,y_train),(X_test,y_test)=mnist.load_data()"
   ]
  },
  {
   "cell_type": "code",
   "execution_count": 3,
   "id": "8eb03b00",
   "metadata": {},
   "outputs": [
    {
     "data": {
      "text/plain": [
       "(60000, 28, 28)"
      ]
     },
     "execution_count": 3,
     "metadata": {},
     "output_type": "execute_result"
    }
   ],
   "source": [
    "X_train.shape"
   ]
  },
  {
   "cell_type": "code",
   "execution_count": 24,
   "id": "79dbc5f8",
   "metadata": {},
   "outputs": [],
   "source": [
    "# Flattiningand Reshaping\n",
    "X_train=X_train.reshape(-1,28,28,1).astype('float32')/255. \n",
    "X_test=X_test.reshape(-1,28,28,1).astype('float32')/255."
   ]
  },
  {
   "cell_type": "code",
   "execution_count": 25,
   "id": "d85b1672",
   "metadata": {},
   "outputs": [
    {
     "data": {
      "text/plain": [
       "(60000, 28, 28, 1)"
      ]
     },
     "execution_count": 25,
     "metadata": {},
     "output_type": "execute_result"
    }
   ],
   "source": [
    "X_train.shape"
   ]
  },
  {
   "cell_type": "markdown",
   "id": "59588fa0",
   "metadata": {},
   "source": [
    "# Sequential API (Very conviniant but not flexible)\n",
    "This means that it maps 1 input to 1 output"
   ]
  },
  {
   "cell_type": "code",
   "execution_count": null,
   "id": "c106ada3",
   "metadata": {},
   "outputs": [],
   "source": [
    "model=keras.Sequential(\n",
    "    [\n",
    "        keras.layers.Dense(512,activation='relu'),\n",
    "        keras.layers.Dense(256,activation='relu'),\n",
    "        keras.layers.Dense(10)\n",
    "    ]\n",
    ")"
   ]
  },
  {
   "cell_type": "code",
   "execution_count": null,
   "id": "5acb6f96",
   "metadata": {},
   "outputs": [],
   "source": [
    "# model.summary()"
   ]
  },
  {
   "cell_type": "code",
   "execution_count": null,
   "id": "6b7fe557",
   "metadata": {},
   "outputs": [],
   "source": [
    "model.compile(\n",
    "        loss=keras.losses.SparseCategoricalCrossentropy(from_logits=True), #from_logits= True is when \\\n",
    "        #we don't define activation fuunction in output layer\n",
    "        optimizer=keras.optimizers.Adam(lr=0.001),\n",
    "        metrics=['accuracy']\n",
    ")\n",
    "log_dir = \"logs/fit/\" + datetime.datetime.now().strftime(\"%Y%m%d-%H%M%S\")\n",
    "tensorboard_callback = tf.keras.callbacks.TensorBoard(log_dir=log_dir, histogram_freq=1)"
   ]
  },
  {
   "cell_type": "code",
   "execution_count": null,
   "id": "d78b7569",
   "metadata": {},
   "outputs": [],
   "source": [
    "model.fit(X_train,y_train,batch_size=32,epochs=5, validation_data=(X_test, y_test),callbacks=[tensorboard_callback],verbose=2)"
   ]
  },
  {
   "cell_type": "code",
   "execution_count": null,
   "id": "87d37786",
   "metadata": {},
   "outputs": [],
   "source": [
    "%tensorboard --logdir logs/fit"
   ]
  },
  {
   "cell_type": "code",
   "execution_count": null,
   "id": "fdac1571",
   "metadata": {},
   "outputs": [],
   "source": [
    "#model.evaluate return these two metrics loss and accuracy if you aren't sure what metrics are then model.metric_names can help\n",
    "print(model.metrics_names)\n",
    "model.evaluate(X_test,y_test,batch_size=32,verbose=32)"
   ]
  },
  {
   "cell_type": "code",
   "execution_count": null,
   "id": "4b7465e3",
   "metadata": {},
   "outputs": [],
   "source": [
    "# If you haven't specified input shape in sequential API then you can't find model.summary before training however after training\n",
    "#it can be find\n",
    "print(model.summary())"
   ]
  },
  {
   "cell_type": "markdown",
   "id": "bcbe35ae",
   "metadata": {},
   "source": [
    "## Adding Input shape"
   ]
  },
  {
   "cell_type": "code",
   "execution_count": null,
   "id": "22624ad7",
   "metadata": {},
   "outputs": [],
   "source": [
    "model=keras.Sequential(\n",
    "    [\n",
    "        keras.Input(shape=(28,28)),\n",
    "        keras.layers.Dense(512,activation='relu'),\n",
    "        keras.layers.Dense(256,activation='relu'),\n",
    "        keras.layers.Dense(10)\n",
    "    ]\n",
    ")"
   ]
  },
  {
   "cell_type": "code",
   "execution_count": null,
   "id": "bfa78587",
   "metadata": {},
   "outputs": [],
   "source": [
    "#you can see after adding input shape we can find model.summary before training\n",
    "model.summary()"
   ]
  },
  {
   "cell_type": "markdown",
   "id": "3f43bd8f",
   "metadata": {},
   "source": [
    "# Another method for sequential"
   ]
  },
  {
   "cell_type": "code",
   "execution_count": null,
   "id": "39fa96fe",
   "metadata": {},
   "outputs": [],
   "source": [
    "model=keras.Sequential()\n",
    "model.add(keras.layers.Dense(512,activation='relu',input_shape=(28*28,)))\n",
    "model.add(keras.layers.Dense(256,activation='relu',name='second_layers')) #you can specify layer name as well.\n",
    "model.add(keras.layers.Dense(10,activation='softmax'))"
   ]
  },
  {
   "cell_type": "code",
   "execution_count": null,
   "id": "ab1b3f5f",
   "metadata": {},
   "outputs": [],
   "source": [
    "model.summary()"
   ]
  },
  {
   "cell_type": "markdown",
   "id": "4fcafd65",
   "metadata": {},
   "source": [
    "# Alternate to sequential API is Functional API"
   ]
  },
  {
   "cell_type": "code",
   "execution_count": null,
   "id": "ff9049ac",
   "metadata": {},
   "outputs": [],
   "source": [
    "inputs=keras.Input(shape=(784))\n",
    "x=keras.layers.Dense(512,activation='relu')(inputs)\n",
    "y=keras.layers.Dense(256,activation='relu')(x)\n",
    "output=keras.layers.Dense(10,activation='softmax')(y)"
   ]
  },
  {
   "cell_type": "code",
   "execution_count": null,
   "id": "abdc8213",
   "metadata": {},
   "outputs": [],
   "source": [
    "model=keras.Model(inputs=inputs,outputs=output)"
   ]
  },
  {
   "cell_type": "code",
   "execution_count": null,
   "id": "c2574514",
   "metadata": {},
   "outputs": [],
   "source": [
    "model.summary()"
   ]
  },
  {
   "cell_type": "code",
   "execution_count": null,
   "id": "4dfa0f23",
   "metadata": {},
   "outputs": [],
   "source": [
    "model.compile(\n",
    "    loss=keras.losses.SparseCategoricalCrossentropy(),#in output we defined activation so don't need to add from_logits\n",
    "    optimizer=keras.optimizers.Adam(lr=0.001),\n",
    "    metrics=['accuracy']\n",
    ")"
   ]
  },
  {
   "cell_type": "code",
   "execution_count": null,
   "id": "2c0a0c5e",
   "metadata": {},
   "outputs": [],
   "source": [
    "model.fit(X_train,y_train,batch_size=32,epochs=5,verbose=1)"
   ]
  },
  {
   "cell_type": "code",
   "execution_count": null,
   "id": "3ae6aacf",
   "metadata": {},
   "outputs": [],
   "source": [
    "model.evaluate(X_test,y_test,batch_size=32,verbose=1)"
   ]
  },
  {
   "cell_type": "markdown",
   "id": "05005356",
   "metadata": {},
   "source": [
    "# Creating Model using class"
   ]
  },
  {
   "cell_type": "markdown",
   "id": "3d09cff8",
   "metadata": {},
   "source": [
    "# Model Sub-classing"
   ]
  },
  {
   "cell_type": "code",
   "execution_count": 6,
   "id": "6eb0c59c",
   "metadata": {},
   "outputs": [],
   "source": [
    "from tensorflow.keras import layers"
   ]
  },
  {
   "cell_type": "code",
   "execution_count": 7,
   "id": "e88e368e",
   "metadata": {},
   "outputs": [],
   "source": [
    "class CNNBlock(layers.Layer):\n",
    "    def __init__(self,out_channels,kernel_size=3):\n",
    "        super(CNNBlock,self).__init__()\n",
    "        self.conv=layers.Conv2D(out_channels,kernel_size,padding='same')\n",
    "        self.bn=layers.BatchNormalization()\n",
    "         \n",
    "    def call(self,input_tensor,training=False):\n",
    "        X=self.conv(input_tensor)\n",
    "        X=self.bn(X,training=traning)\n",
    "        X=tf.nn.relu(X)\n",
    "        return X"
   ]
  },
  {
   "cell_type": "code",
   "execution_count": 8,
   "id": "c5e6e1a1",
   "metadata": {},
   "outputs": [],
   "source": [
    "model=keras.Sequential([\n",
    "    CNNBlock(32),\n",
    "    CNNBlock(64),\n",
    "    CNNBlock(128),\n",
    "    layers.Flatten(),\n",
    "    layers.Dense(10),\n",
    "])"
   ]
  },
  {
   "cell_type": "code",
   "execution_count": 27,
   "id": "fd45d158",
   "metadata": {},
   "outputs": [],
   "source": [
    "class cnnblock(layers.Layer):\n",
    "    def __init__(self,out_channels,kernel_size=3):\n",
    "        super(cnnblock,self).__init__()\n",
    "        self.conv=layers.Conv2D(out_channels,kernel_size=kernel_size,padding='same')\n",
    "        self.bn=layers.BatchNormalization()\n",
    "        \n",
    "    def call(self,input_tensor,training=False):\n",
    "        x=self.conv(input_tensor)\n",
    "        x=self.bn(x,training=training)\n",
    "        x=tf.nn.relu(x)\n",
    "        return x"
   ]
  },
  {
   "cell_type": "code",
   "execution_count": 31,
   "id": "6e0bf5b1",
   "metadata": {},
   "outputs": [],
   "source": [
    "model=keras.Sequential([\n",
    "    cnnblock(32),\n",
    "    cnnblock(64),\n",
    "    cnnblock(128),\n",
    "    layers.Flatten(),\n",
    "    layers.Dense(10),\n",
    "])"
   ]
  },
  {
   "cell_type": "code",
   "execution_count": 32,
   "id": "e276be58",
   "metadata": {},
   "outputs": [],
   "source": [
    "# model.compile(optimizer=tf.optimizers.Adam(lr=0.001),\n",
    "#              loss=tf.losses.SparseCategoricalCrossentropy(from_logits=True),\n",
    "#              metrics=['accuracy'])"
   ]
  },
  {
   "cell_type": "code",
   "execution_count": 33,
   "id": "572964a7",
   "metadata": {},
   "outputs": [],
   "source": [
    "# model.fit(X_train,y_train,batch_size=64,epochs=5,verbose=1)"
   ]
  },
  {
   "cell_type": "code",
   "execution_count": 34,
   "id": "945c38be",
   "metadata": {},
   "outputs": [],
   "source": [
    "# class cnnblock(layers.Layer):\n",
    "#     def __init__(self,out_channels,kernel_size):\n",
    "#         super(cnnblock,self).__init__()\n",
    "#         self.conv=layers.Conv2D(out_Channels,kernel_size=kernel_size,padding='same')\n",
    "#         self.bn=layers.BatchNormalization()\n",
    "        \n",
    "#     def call(self,input_tensor,training=False):\n",
    "#         inputs=self.conv(input_tensor)\n",
    "#         x=self.bn(inputs,trainig=training)\n",
    "#         x=tf.nn.relu(x)\n",
    "#         return x"
   ]
  },
  {
   "cell_type": "code",
   "execution_count": 35,
   "id": "cb23e44a",
   "metadata": {},
   "outputs": [],
   "source": [
    "# class cnnblock(layers.Layer):\n",
    "#     def __init__(self,output_channels,kernel_size):\n",
    "#         super(cnnblock).__init__()\n",
    "#         self.conv=layers.Conv2D(output_channels,kernel_size=kernel_size,padding='same')\n",
    "#         self.bn=layers.BatchNormalization()\n",
    "        \n",
    "#     def call(self,input_tensor,training=False):\n",
    "#         inputs=self.conv(input_tensor)\n",
    "#         x=self.bn(inputs,training=training)\n",
    "#         x=tf.nn.relu(x)\n",
    "#         return x"
   ]
  },
  {
   "cell_type": "code",
   "execution_count": 36,
   "id": "76f00eb0",
   "metadata": {},
   "outputs": [],
   "source": [
    "# def cnns(layers.Layer):\n",
    "#     def __init__(self,output_tensor,kernel_size=3):\n",
    "#         super(cnns,self).__init__()\n",
    "#         self.con=layers.Conv2D(output_tensor,kernel_size=3,padding='same')\n",
    "#         self.bn=layers.BatchNormalization()\n",
    "        \n",
    "#     def call(self,input_tensor,training=False):\n",
    "#         inputs=self.con(input_tensor)\n",
    "#         x=self.bn(inputs,training=training)\n",
    "#         x=tf.nn.relu(x)\n",
    "#         return x"
   ]
  },
  {
   "cell_type": "code",
   "execution_count": 42,
   "id": "513abf88",
   "metadata": {},
   "outputs": [],
   "source": [
    "class RESBlock(layers.Layer):\n",
    "    def __init__(self,channels):\n",
    "        super(RESBlock,self).__init__()\n",
    "        self.conv1=cnnblock(channels[0])\n",
    "        self.conv2=cnnblock(channels[1])\n",
    "        self.conv3=cnnblock(channels[2])\n",
    "        self.pooling=layers.MaxPooling2D()\n",
    "        self.identity_mapping=layers.Conv2D(channels[1],1,padding='same')\n",
    "        \n",
    "    def call(self,input_tensor,training=False):\n",
    "        inputs=self.conv1(input_tensor,training=training)\n",
    "        x=self.conv2(inputs,training=training)\n",
    "        x=self.conv3(x + self.identity_mapping(input_tensor),training=training)\n",
    "        return self.pooling(x)"
   ]
  },
  {
   "cell_type": "code",
   "execution_count": 43,
   "id": "a72542ff",
   "metadata": {},
   "outputs": [],
   "source": [
    "class Res_like(keras.Model): # we don't use layers.layer because here keras.Model meet out needs\n",
    "    def __init__(self,num_classes):\n",
    "        super(Res_like,self).__init__()\n",
    "        self.block1=RESBlock([32,32,64])\n",
    "        self.block2=RESBlock([128,128,256])\n",
    "        self.block3=RESBlock([256,256,512])\n",
    "        self.pool=layers.GlobalAveragePooling2D()\n",
    "        self.classifier=layers.Dense(num_classes)\n",
    "    \n",
    "    def call(self,input_tensor,training=False):\n",
    "        x=self.block1(input_tensor,training=training)\n",
    "        x=self.block2(x,training=training)\n",
    "        x=self.block3(x,training=training)\n",
    "        x=self.pool(x)\n",
    "        return self.classifier(x)"
   ]
  },
  {
   "cell_type": "code",
   "execution_count": 44,
   "id": "4a84b815",
   "metadata": {},
   "outputs": [],
   "source": [
    "model=Res_like(num_classes=10)"
   ]
  },
  {
   "cell_type": "code",
   "execution_count": 47,
   "id": "76e9347c",
   "metadata": {},
   "outputs": [],
   "source": [
    "model.compile(optimizer=tf.optimizers.Adam(lr=0.001),\n",
    "             loss=tf.losses.SparseCategoricalCrossentropy(from_logits=True),\n",
    "             metrics=['accuracy'])"
   ]
  },
  {
   "cell_type": "code",
   "execution_count": 48,
   "id": "6ebc3f71",
   "metadata": {},
   "outputs": [
    {
     "name": "stdout",
     "output_type": "stream",
     "text": [
      "Epoch 1/5\n",
      "1875/1875 [==============================] - 1801s 960ms/step - loss: 0.1311 - accuracy: 0.9579\n",
      "Epoch 2/5\n",
      "1875/1875 [==============================] - 1777s 948ms/step - loss: 0.0439 - accuracy: 0.9863\n",
      "Epoch 3/5\n",
      "1875/1875 [==============================] - 1772s 945ms/step - loss: 0.0354 - accuracy: 0.9893\n",
      "Epoch 4/5\n",
      "1875/1875 [==============================] - 2016s 1s/step - loss: 0.0299 - accuracy: 0.9906\n",
      "Epoch 5/5\n",
      "1875/1875 [==============================] - 2007s 1s/step - loss: 0.0251 - accuracy: 0.9923\n"
     ]
    },
    {
     "data": {
      "text/plain": [
       "<tensorflow.python.keras.callbacks.History at 0x1da8299d430>"
      ]
     },
     "execution_count": 48,
     "metadata": {},
     "output_type": "execute_result"
    }
   ],
   "source": [
    "model.fit(X_train,y_train,epochs=5,verbose=1)"
   ]
  },
  {
   "cell_type": "code",
   "execution_count": 49,
   "id": "b8390841",
   "metadata": {},
   "outputs": [
    {
     "name": "stdout",
     "output_type": "stream",
     "text": [
      "Model: \"res_like_1\"\n",
      "_________________________________________________________________\n",
      "Layer (type)                 Output Shape              Param #   \n",
      "=================================================================\n",
      "res_block_1 (RESBlock)       multiple                  28640     \n",
      "_________________________________________________________________\n",
      "res_block_2 (RESBlock)       multiple                  526976    \n",
      "_________________________________________________________________\n",
      "res_block_3 (RESBlock)       multiple                  2430208   \n",
      "_________________________________________________________________\n",
      "global_average_pooling2d (Gl multiple                  0         \n",
      "_________________________________________________________________\n",
      "dense_6 (Dense)              multiple                  5130      \n",
      "=================================================================\n",
      "Total params: 2,990,954\n",
      "Trainable params: 2,987,626\n",
      "Non-trainable params: 3,328\n",
      "_________________________________________________________________\n"
     ]
    }
   ],
   "source": [
    "model.summary()"
   ]
  },
  {
   "cell_type": "code",
   "execution_count": 54,
   "id": "ef5b558a",
   "metadata": {},
   "outputs": [
    {
     "data": {
      "text/plain": [
       "<__main__.RESBlock at 0x1dae3ea40d0>"
      ]
     },
     "execution_count": 54,
     "metadata": {},
     "output_type": "execute_result"
    }
   ],
   "source": [
    "model.get_layer(index=0)"
   ]
  },
  {
   "cell_type": "code",
   "execution_count": null,
   "id": "01b2b7a7",
   "metadata": {},
   "outputs": [],
   "source": []
  }
 ],
 "metadata": {
  "kernelspec": {
   "display_name": "Python 3",
   "language": "python",
   "name": "python3"
  },
  "language_info": {
   "codemirror_mode": {
    "name": "ipython",
    "version": 3
   },
   "file_extension": ".py",
   "mimetype": "text/x-python",
   "name": "python",
   "nbconvert_exporter": "python",
   "pygments_lexer": "ipython3",
   "version": "3.8.8"
  }
 },
 "nbformat": 4,
 "nbformat_minor": 5
}

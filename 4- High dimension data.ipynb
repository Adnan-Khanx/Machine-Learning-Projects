{
 "cells": [
  {
   "cell_type": "code",
   "execution_count": 1,
   "metadata": {},
   "outputs": [],
   "source": [
    "import pandas as pd\n",
    "import numpy as np\n",
    "import matplotlib.pyplot as plt\n",
    "import seaborn as sns\n",
    "from sklearn.ensemble import RandomForestClassifier\n",
    "from sklearn.linear_model import Perceptron\n",
    "from sklearn.neural_network import MLPClassifier\n",
    "from sklearn.neighbors import KNeighborsClassifier\n",
    "from sklearn.metrics import classification_report\n",
    "from sklearn.svm import SVC\n",
    "from sklearn.metrics import accuracy_score\n",
    "from sklearn.linear_model import LogisticRegression\n",
    "from sklearn.model_selection import train_test_split\n",
    "from sklearn.preprocessing import StandardScaler\n",
    "from sklearn.model_selection import GridSearchCV"
   ]
  },
  {
   "cell_type": "code",
   "execution_count": 2,
   "metadata": {},
   "outputs": [],
   "source": [
    "df_train1=pd.read_csv('training1.csv')\n",
    "df_train2=pd.read_csv('training2.csv')\n",
    "df_test=pd.read_csv('test.csv')"
   ]
  },
  {
   "cell_type": "code",
   "execution_count": 3,
   "metadata": {},
   "outputs": [
    {
     "name": "stdout",
     "output_type": "stream",
     "text": [
      "train 1 shape:  (615, 4610)\n",
      "train 2 shape : (3000, 4610)\n",
      "test shape : (2167, 4608)\n"
     ]
    }
   ],
   "source": [
    "print('train 1 shape: ',df_train1.shape)\n",
    "print('train 2 shape :', df_train2.shape)\n",
    "print('test shape :', df_test.shape)"
   ]
  },
  {
   "cell_type": "code",
   "execution_count": 4,
   "metadata": {},
   "outputs": [
    {
     "data": {
      "text/html": [
       "<div>\n",
       "<style scoped>\n",
       "    .dataframe tbody tr th:only-of-type {\n",
       "        vertical-align: middle;\n",
       "    }\n",
       "\n",
       "    .dataframe tbody tr th {\n",
       "        vertical-align: top;\n",
       "    }\n",
       "\n",
       "    .dataframe thead th {\n",
       "        text-align: right;\n",
       "    }\n",
       "</style>\n",
       "<table border=\"1\" class=\"dataframe\">\n",
       "  <thead>\n",
       "    <tr style=\"text-align: right;\">\n",
       "      <th></th>\n",
       "      <th>CNNs</th>\n",
       "      <th>CNNs.1</th>\n",
       "      <th>CNNs.2</th>\n",
       "      <th>CNNs.3</th>\n",
       "      <th>CNNs.4</th>\n",
       "      <th>CNNs.5</th>\n",
       "      <th>CNNs.6</th>\n",
       "      <th>CNNs.7</th>\n",
       "      <th>CNNs.8</th>\n",
       "      <th>CNNs.9</th>\n",
       "      <th>...</th>\n",
       "      <th>GIST.504</th>\n",
       "      <th>GIST.505</th>\n",
       "      <th>GIST.506</th>\n",
       "      <th>GIST.507</th>\n",
       "      <th>GIST.508</th>\n",
       "      <th>GIST.509</th>\n",
       "      <th>GIST.510</th>\n",
       "      <th>GIST.511</th>\n",
       "      <th>label</th>\n",
       "      <th>confidence</th>\n",
       "    </tr>\n",
       "  </thead>\n",
       "  <tbody>\n",
       "    <tr>\n",
       "      <th>0</th>\n",
       "      <td>0.00000</td>\n",
       "      <td>0.00000</td>\n",
       "      <td>0.25454</td>\n",
       "      <td>0.00000</td>\n",
       "      <td>0.0</td>\n",
       "      <td>0.0000</td>\n",
       "      <td>0.00000</td>\n",
       "      <td>0.10555</td>\n",
       "      <td>1.0106</td>\n",
       "      <td>0.0</td>\n",
       "      <td>...</td>\n",
       "      <td>0.003721</td>\n",
       "      <td>0.021602</td>\n",
       "      <td>0.023856</td>\n",
       "      <td>0.014469</td>\n",
       "      <td>0.014367</td>\n",
       "      <td>0.035120</td>\n",
       "      <td>0.029973</td>\n",
       "      <td>0.037133</td>\n",
       "      <td>0.0</td>\n",
       "      <td>0.66</td>\n",
       "    </tr>\n",
       "    <tr>\n",
       "      <th>1</th>\n",
       "      <td>0.00000</td>\n",
       "      <td>0.27491</td>\n",
       "      <td>1.11130</td>\n",
       "      <td>0.00000</td>\n",
       "      <td>0.0</td>\n",
       "      <td>0.0000</td>\n",
       "      <td>0.59026</td>\n",
       "      <td>0.00000</td>\n",
       "      <td>0.0000</td>\n",
       "      <td>0.0</td>\n",
       "      <td>...</td>\n",
       "      <td>0.004116</td>\n",
       "      <td>0.009038</td>\n",
       "      <td>0.006503</td>\n",
       "      <td>0.010059</td>\n",
       "      <td>0.024852</td>\n",
       "      <td>0.003353</td>\n",
       "      <td>0.027765</td>\n",
       "      <td>0.019326</td>\n",
       "      <td>0.0</td>\n",
       "      <td>0.66</td>\n",
       "    </tr>\n",
       "    <tr>\n",
       "      <th>2</th>\n",
       "      <td>0.00000</td>\n",
       "      <td>0.00000</td>\n",
       "      <td>0.23664</td>\n",
       "      <td>0.56718</td>\n",
       "      <td>0.0</td>\n",
       "      <td>0.0000</td>\n",
       "      <td>1.15100</td>\n",
       "      <td>0.00000</td>\n",
       "      <td>0.0000</td>\n",
       "      <td>0.0</td>\n",
       "      <td>...</td>\n",
       "      <td>0.008185</td>\n",
       "      <td>0.004567</td>\n",
       "      <td>0.010973</td>\n",
       "      <td>0.002854</td>\n",
       "      <td>0.043719</td>\n",
       "      <td>0.006321</td>\n",
       "      <td>0.026313</td>\n",
       "      <td>0.025235</td>\n",
       "      <td>0.0</td>\n",
       "      <td>1.00</td>\n",
       "    </tr>\n",
       "    <tr>\n",
       "      <th>3</th>\n",
       "      <td>0.77101</td>\n",
       "      <td>0.00000</td>\n",
       "      <td>0.00000</td>\n",
       "      <td>0.00000</td>\n",
       "      <td>0.0</td>\n",
       "      <td>0.0000</td>\n",
       "      <td>0.00000</td>\n",
       "      <td>0.00000</td>\n",
       "      <td>0.0000</td>\n",
       "      <td>0.0</td>\n",
       "      <td>...</td>\n",
       "      <td>0.005561</td>\n",
       "      <td>0.008436</td>\n",
       "      <td>0.037298</td>\n",
       "      <td>0.006167</td>\n",
       "      <td>0.073214</td>\n",
       "      <td>0.039281</td>\n",
       "      <td>0.033228</td>\n",
       "      <td>0.026239</td>\n",
       "      <td>0.0</td>\n",
       "      <td>0.66</td>\n",
       "    </tr>\n",
       "    <tr>\n",
       "      <th>4</th>\n",
       "      <td>0.00000</td>\n",
       "      <td>0.00000</td>\n",
       "      <td>1.43390</td>\n",
       "      <td>0.00000</td>\n",
       "      <td>0.0</td>\n",
       "      <td>1.1585</td>\n",
       "      <td>0.83642</td>\n",
       "      <td>0.00000</td>\n",
       "      <td>1.5269</td>\n",
       "      <td>0.0</td>\n",
       "      <td>...</td>\n",
       "      <td>0.008136</td>\n",
       "      <td>0.016136</td>\n",
       "      <td>0.007089</td>\n",
       "      <td>0.007113</td>\n",
       "      <td>0.015659</td>\n",
       "      <td>0.046947</td>\n",
       "      <td>0.008928</td>\n",
       "      <td>0.012252</td>\n",
       "      <td>1.0</td>\n",
       "      <td>1.00</td>\n",
       "    </tr>\n",
       "  </tbody>\n",
       "</table>\n",
       "<p>5 rows × 4610 columns</p>\n",
       "</div>"
      ],
      "text/plain": [
       "      CNNs   CNNs.1   CNNs.2   CNNs.3  CNNs.4  CNNs.5   CNNs.6   CNNs.7  \\\n",
       "0  0.00000  0.00000  0.25454  0.00000     0.0  0.0000  0.00000  0.10555   \n",
       "1  0.00000  0.27491  1.11130  0.00000     0.0  0.0000  0.59026  0.00000   \n",
       "2  0.00000  0.00000  0.23664  0.56718     0.0  0.0000  1.15100  0.00000   \n",
       "3  0.77101  0.00000  0.00000  0.00000     0.0  0.0000  0.00000  0.00000   \n",
       "4  0.00000  0.00000  1.43390  0.00000     0.0  1.1585  0.83642  0.00000   \n",
       "\n",
       "   CNNs.8  CNNs.9  ...  GIST.504  GIST.505  GIST.506  GIST.507  GIST.508  \\\n",
       "0  1.0106     0.0  ...  0.003721  0.021602  0.023856  0.014469  0.014367   \n",
       "1  0.0000     0.0  ...  0.004116  0.009038  0.006503  0.010059  0.024852   \n",
       "2  0.0000     0.0  ...  0.008185  0.004567  0.010973  0.002854  0.043719   \n",
       "3  0.0000     0.0  ...  0.005561  0.008436  0.037298  0.006167  0.073214   \n",
       "4  1.5269     0.0  ...  0.008136  0.016136  0.007089  0.007113  0.015659   \n",
       "\n",
       "   GIST.509  GIST.510  GIST.511  label  confidence  \n",
       "0  0.035120  0.029973  0.037133    0.0        0.66  \n",
       "1  0.003353  0.027765  0.019326    0.0        0.66  \n",
       "2  0.006321  0.026313  0.025235    0.0        1.00  \n",
       "3  0.039281  0.033228  0.026239    0.0        0.66  \n",
       "4  0.046947  0.008928  0.012252    1.0        1.00  \n",
       "\n",
       "[5 rows x 4610 columns]"
      ]
     },
     "execution_count": 4,
     "metadata": {},
     "output_type": "execute_result"
    }
   ],
   "source": [
    "df_train1.head()"
   ]
  },
  {
   "cell_type": "code",
   "execution_count": 5,
   "metadata": {},
   "outputs": [
    {
     "data": {
      "text/plain": [
       "CNNs        613\n",
       "CNNs.1      585\n",
       "CNNs.2      606\n",
       "CNNs.3      613\n",
       "CNNs.4      616\n",
       "           ... \n",
       "GIST.507    621\n",
       "GIST.508    599\n",
       "GIST.509    628\n",
       "GIST.510    624\n",
       "GIST.511    589\n",
       "Length: 4608, dtype: int64"
      ]
     },
     "execution_count": 5,
     "metadata": {},
     "output_type": "execute_result"
    }
   ],
   "source": [
    "null_na=df_train2.isna().sum()\n",
    "null_na[null_na > 1]"
   ]
  },
  {
   "cell_type": "code",
   "execution_count": 6,
   "metadata": {},
   "outputs": [],
   "source": [
    "df_train2=df_train2.fillna(df_train2.mean())"
   ]
  },
  {
   "cell_type": "code",
   "execution_count": 7,
   "metadata": {},
   "outputs": [],
   "source": [
    "df_train=pd.concat([df_train1,df_train2],ignore_index=True)"
   ]
  },
  {
   "cell_type": "code",
   "execution_count": 8,
   "metadata": {},
   "outputs": [
    {
     "data": {
      "text/plain": [
       "(3615, 4610)"
      ]
     },
     "execution_count": 8,
     "metadata": {},
     "output_type": "execute_result"
    }
   ],
   "source": [
    "df_train.shape"
   ]
  },
  {
   "cell_type": "code",
   "execution_count": 9,
   "metadata": {},
   "outputs": [],
   "source": [
    "X=df_train.drop(['label','confidence'],axis=1)\n",
    "y=df_train['label']"
   ]
  },
  {
   "cell_type": "code",
   "execution_count": 10,
   "metadata": {},
   "outputs": [
    {
     "data": {
      "text/plain": [
       "(3615, 4608)"
      ]
     },
     "execution_count": 10,
     "metadata": {},
     "output_type": "execute_result"
    }
   ],
   "source": [
    "X.shape"
   ]
  },
  {
   "cell_type": "code",
   "execution_count": 11,
   "metadata": {},
   "outputs": [
    {
     "data": {
      "text/plain": [
       "0.0    1953\n",
       "1.0    1662\n",
       "Name: label, dtype: int64"
      ]
     },
     "execution_count": 11,
     "metadata": {},
     "output_type": "execute_result"
    }
   ],
   "source": [
    "y.value_counts()"
   ]
  },
  {
   "cell_type": "markdown",
   "metadata": {},
   "source": [
    "# Splitting"
   ]
  },
  {
   "cell_type": "code",
   "execution_count": 12,
   "metadata": {},
   "outputs": [],
   "source": [
    "X_train,X_test,y_train,y_test=train_test_split(X,y,test_size=0.25,stratify=y,random_state=42)"
   ]
  },
  {
   "cell_type": "markdown",
   "metadata": {},
   "source": [
    "# Scaling"
   ]
  },
  {
   "cell_type": "code",
   "execution_count": 13,
   "metadata": {},
   "outputs": [],
   "source": [
    "ss=StandardScaler()\n",
    "X_train=ss.fit_transform(X_train)\n",
    "X_test=ss.transform(X_test)"
   ]
  },
  {
   "cell_type": "markdown",
   "metadata": {},
   "source": [
    "# Logistic Regression"
   ]
  },
  {
   "cell_type": "code",
   "execution_count": 14,
   "metadata": {},
   "outputs": [],
   "source": [
    "c_space = np.logspace(-5, 8, 15)\n",
    "#param_grid = {'penalty':['l1', 'l2', 'elasticnet'],'C': [100, 10, 1.0, 0.1, 0.01]}\n",
    "log=LogisticRegression(C= 0.01, penalty= 'l2')\n",
    "#logreg_cv = GridSearchCV(log, param_grid, cv = 5)"
   ]
  },
  {
   "cell_type": "code",
   "execution_count": 15,
   "metadata": {},
   "outputs": [
    {
     "data": {
      "text/plain": [
       "LogisticRegression(C=0.01)"
      ]
     },
     "execution_count": 15,
     "metadata": {},
     "output_type": "execute_result"
    }
   ],
   "source": [
    "log.fit(X_train,y_train)"
   ]
  },
  {
   "cell_type": "code",
   "execution_count": 18,
   "metadata": {},
   "outputs": [],
   "source": [
    "y_pred=log.predict(X_test)"
   ]
  },
  {
   "cell_type": "code",
   "execution_count": 19,
   "metadata": {},
   "outputs": [
    {
     "data": {
      "text/plain": [
       "0.6814159292035398"
      ]
     },
     "execution_count": 19,
     "metadata": {},
     "output_type": "execute_result"
    }
   ],
   "source": [
    "accuracy_score(y_test,y_pred) #0.672566371681416\n",
    "#scaling and stratify\n",
    "#0.6327433628318584"
   ]
  },
  {
   "cell_type": "code",
   "execution_count": 20,
   "metadata": {},
   "outputs": [
    {
     "name": "stdout",
     "output_type": "stream",
     "text": [
      "              precision    recall  f1-score   support\n",
      "\n",
      "         0.0       0.71      0.70      0.70       488\n",
      "         1.0       0.65      0.66      0.66       416\n",
      "\n",
      "    accuracy                           0.68       904\n",
      "   macro avg       0.68      0.68      0.68       904\n",
      "weighted avg       0.68      0.68      0.68       904\n",
      "\n"
     ]
    }
   ],
   "source": [
    "print(classification_report(y_test, y_pred))"
   ]
  },
  {
   "cell_type": "markdown",
   "metadata": {},
   "source": [
    "# SVC"
   ]
  },
  {
   "cell_type": "code",
   "execution_count": 21,
   "metadata": {},
   "outputs": [],
   "source": [
    "# params={\n",
    "#     'kernel' : ['poly', 'rbf', 'sigmoid'],\n",
    "#     'C' : [50, 10, 1.0, 0.1, 0.01]\n",
    "# }\n",
    "svc=SVC().fit(X_train,y_train)\n",
    "#grid_search =GridSearchCV(estimator=svc, param_grid=params, n_jobs=-1, cv=5)"
   ]
  },
  {
   "cell_type": "code",
   "execution_count": 22,
   "metadata": {},
   "outputs": [],
   "source": [
    "# grid_search.fit(X_train,y_train)"
   ]
  },
  {
   "cell_type": "code",
   "execution_count": 23,
   "metadata": {},
   "outputs": [],
   "source": [
    "# grid_search.best_params_"
   ]
  },
  {
   "cell_type": "code",
   "execution_count": 24,
   "metadata": {},
   "outputs": [],
   "source": [
    "y_pred=svc.predict(X_test)"
   ]
  },
  {
   "cell_type": "code",
   "execution_count": 25,
   "metadata": {},
   "outputs": [
    {
     "data": {
      "text/plain": [
       "0.7389380530973452"
      ]
     },
     "execution_count": 25,
     "metadata": {},
     "output_type": "execute_result"
    }
   ],
   "source": [
    "accuracy_score(y_test,y_pred) #0.7433628318584071\n",
    "#scaling and stratify\n",
    "#0.7389380530973452"
   ]
  },
  {
   "cell_type": "code",
   "execution_count": 26,
   "metadata": {},
   "outputs": [
    {
     "name": "stdout",
     "output_type": "stream",
     "text": [
      "              precision    recall  f1-score   support\n",
      "\n",
      "         0.0       0.78      0.72      0.75       488\n",
      "         1.0       0.70      0.76      0.73       416\n",
      "\n",
      "    accuracy                           0.74       904\n",
      "   macro avg       0.74      0.74      0.74       904\n",
      "weighted avg       0.74      0.74      0.74       904\n",
      "\n"
     ]
    }
   ],
   "source": [
    "print(classification_report(y_test, y_pred))"
   ]
  },
  {
   "cell_type": "markdown",
   "metadata": {},
   "source": [
    "# KNN"
   ]
  },
  {
   "cell_type": "code",
   "execution_count": 27,
   "metadata": {},
   "outputs": [],
   "source": [
    "# knc=KNeighborsClassifier().fit(X_train,y_train)\n",
    "# y_pred=knc.predict(X_test)"
   ]
  },
  {
   "cell_type": "code",
   "execution_count": 28,
   "metadata": {},
   "outputs": [],
   "source": [
    "# print(classification_report(y_test, y_pred))"
   ]
  },
  {
   "cell_type": "code",
   "execution_count": 29,
   "metadata": {},
   "outputs": [],
   "source": [
    "# accuracy_score(y_test,y_pred)\n",
    "# #scaling and stratify\n",
    "# #0.6836283185840708"
   ]
  },
  {
   "cell_type": "markdown",
   "metadata": {},
   "source": [
    "# Multi Layer perceptron"
   ]
  },
  {
   "cell_type": "code",
   "execution_count": 30,
   "metadata": {},
   "outputs": [],
   "source": [
    "mlp_gs = MLPClassifier(max_iter=100)\n",
    "parameter_space = {\n",
    "    'hidden_layer_sizes': [(10,30,10),(20,)],\n",
    "    'activation': ['tanh', 'relu'],\n",
    "    'solver': ['sgd', 'adam'],\n",
    "    'alpha': [0.0001, 0.05],\n",
    "    'learning_rate': ['constant','adaptive'],\n",
    "}\n",
    "clf = GridSearchCV(mlp_gs, parameter_space, n_jobs=-1, cv=5)"
   ]
  },
  {
   "cell_type": "code",
   "execution_count": 31,
   "metadata": {},
   "outputs": [
    {
     "name": "stderr",
     "output_type": "stream",
     "text": [
      "c:\\users\\madna\\anaconda3\\envs\\tensorflows\\lib\\site-packages\\sklearn\\neural_network\\_multilayer_perceptron.py:614: ConvergenceWarning: Stochastic Optimizer: Maximum iterations (100) reached and the optimization hasn't converged yet.\n",
      "  warnings.warn(\n"
     ]
    },
    {
     "data": {
      "text/plain": [
       "GridSearchCV(cv=5, estimator=MLPClassifier(max_iter=100), n_jobs=-1,\n",
       "             param_grid={'activation': ['tanh', 'relu'],\n",
       "                         'alpha': [0.0001, 0.05],\n",
       "                         'hidden_layer_sizes': [(10, 30, 10), (20,)],\n",
       "                         'learning_rate': ['constant', 'adaptive'],\n",
       "                         'solver': ['sgd', 'adam']})"
      ]
     },
     "execution_count": 31,
     "metadata": {},
     "output_type": "execute_result"
    }
   ],
   "source": [
    "clf.fit(X_train,y_train)"
   ]
  },
  {
   "cell_type": "code",
   "execution_count": 32,
   "metadata": {},
   "outputs": [
    {
     "data": {
      "text/plain": [
       "{'activation': 'relu',\n",
       " 'alpha': 0.0001,\n",
       " 'hidden_layer_sizes': (20,),\n",
       " 'learning_rate': 'adaptive',\n",
       " 'solver': 'sgd'}"
      ]
     },
     "execution_count": 32,
     "metadata": {},
     "output_type": "execute_result"
    }
   ],
   "source": [
    "clf.best_params_"
   ]
  },
  {
   "cell_type": "code",
   "execution_count": null,
   "metadata": {},
   "outputs": [],
   "source": []
  },
  {
   "cell_type": "code",
   "execution_count": 33,
   "metadata": {},
   "outputs": [],
   "source": [
    "clf = MLPClassifier(activation='relu',alpha= 0.05,hidden_layer_sizes= (20,),learning_rate='constant',solver='sgd',random_state=1, max_iter=300).fit(X_train, y_train)"
   ]
  },
  {
   "cell_type": "code",
   "execution_count": 34,
   "metadata": {},
   "outputs": [],
   "source": [
    "y_pred=clf.predict(X_test)"
   ]
  },
  {
   "cell_type": "code",
   "execution_count": 35,
   "metadata": {},
   "outputs": [
    {
     "name": "stdout",
     "output_type": "stream",
     "text": [
      "              precision    recall  f1-score   support\n",
      "\n",
      "         0.0       0.73      0.72      0.72       488\n",
      "         1.0       0.67      0.69      0.68       416\n",
      "\n",
      "    accuracy                           0.70       904\n",
      "   macro avg       0.70      0.70      0.70       904\n",
      "weighted avg       0.70      0.70      0.70       904\n",
      "\n"
     ]
    }
   ],
   "source": [
    "print(classification_report(y_test, y_pred))"
   ]
  },
  {
   "cell_type": "code",
   "execution_count": 36,
   "metadata": {},
   "outputs": [
    {
     "data": {
      "text/plain": [
       "0.702433628318584"
      ]
     },
     "execution_count": 36,
     "metadata": {},
     "output_type": "execute_result"
    }
   ],
   "source": [
    "accuracy_score(y_test,y_pred) #0.70\n",
    "#scaling and stratify\n",
    "#0.7112831858407079"
   ]
  },
  {
   "cell_type": "markdown",
   "metadata": {},
   "source": [
    "# Single layer perceptron"
   ]
  },
  {
   "cell_type": "code",
   "execution_count": 37,
   "metadata": {},
   "outputs": [
    {
     "data": {
      "text/plain": [
       "Perceptron()"
      ]
     },
     "execution_count": 37,
     "metadata": {},
     "output_type": "execute_result"
    }
   ],
   "source": [
    "clf = Perceptron(tol=1e-3, random_state=0)\n",
    "clf.fit(X_train, y_train)"
   ]
  },
  {
   "cell_type": "code",
   "execution_count": 38,
   "metadata": {},
   "outputs": [],
   "source": [
    "y_pred=clf.predict(X_test)"
   ]
  },
  {
   "cell_type": "code",
   "execution_count": 39,
   "metadata": {},
   "outputs": [
    {
     "name": "stdout",
     "output_type": "stream",
     "text": [
      "              precision    recall  f1-score   support\n",
      "\n",
      "         0.0       0.66      0.66      0.66       488\n",
      "         1.0       0.60      0.60      0.60       416\n",
      "\n",
      "    accuracy                           0.63       904\n",
      "   macro avg       0.63      0.63      0.63       904\n",
      "weighted avg       0.63      0.63      0.63       904\n",
      "\n"
     ]
    }
   ],
   "source": [
    "print(classification_report(y_test, y_pred))"
   ]
  },
  {
   "cell_type": "code",
   "execution_count": 40,
   "metadata": {},
   "outputs": [
    {
     "data": {
      "text/plain": [
       "0.6349557522123894"
      ]
     },
     "execution_count": 40,
     "metadata": {},
     "output_type": "execute_result"
    }
   ],
   "source": [
    "accuracy_score(y_test,y_pred) \n",
    "#scaling and stratify\n",
    "#0.6349557522123894"
   ]
  },
  {
   "cell_type": "markdown",
   "metadata": {},
   "source": [
    "# Random Forest"
   ]
  },
  {
   "cell_type": "code",
   "execution_count": 49,
   "metadata": {},
   "outputs": [],
   "source": [
    "params={\n",
    "    'n_estimators' : [10, 100, 1000],\n",
    "    'max_features' : ['sqrt', 'log2']\n",
    "}\n",
    "rfc=RandomForestClassifier(max_features= 'sqrt',n_estimators= 1000)\n",
    "#grid_search =GridSearchCV(estimator=rfc, param_grid=params, n_jobs=-1, cv=5)"
   ]
  },
  {
   "cell_type": "code",
   "execution_count": 50,
   "metadata": {},
   "outputs": [
    {
     "data": {
      "text/plain": [
       "RandomForestClassifier(max_features='sqrt', n_estimators=1000)"
      ]
     },
     "execution_count": 50,
     "metadata": {},
     "output_type": "execute_result"
    }
   ],
   "source": [
    "rfc.fit(X_train,y_train)"
   ]
  },
  {
   "cell_type": "code",
   "execution_count": 46,
   "metadata": {},
   "outputs": [
    {
     "data": {
      "text/plain": [
       "{'max_features': 'sqrt', 'n_estimators': 1000}"
      ]
     },
     "execution_count": 46,
     "metadata": {},
     "output_type": "execute_result"
    }
   ],
   "source": [
    "# grid_search.best_params_"
   ]
  },
  {
   "cell_type": "code",
   "execution_count": 51,
   "metadata": {},
   "outputs": [],
   "source": [
    "y_pred=rfc.predict(X_test)"
   ]
  },
  {
   "cell_type": "code",
   "execution_count": 52,
   "metadata": {},
   "outputs": [
    {
     "name": "stdout",
     "output_type": "stream",
     "text": [
      "              precision    recall  f1-score   support\n",
      "\n",
      "         0.0       0.77      0.73      0.75       488\n",
      "         1.0       0.70      0.75      0.72       416\n",
      "\n",
      "    accuracy                           0.74       904\n",
      "   macro avg       0.74      0.74      0.74       904\n",
      "weighted avg       0.74      0.74      0.74       904\n",
      "\n"
     ]
    }
   ],
   "source": [
    "print(classification_report(y_test, y_pred))"
   ]
  },
  {
   "cell_type": "code",
   "execution_count": 53,
   "metadata": {},
   "outputs": [
    {
     "data": {
      "text/plain": [
       "0.7378318584070797"
      ]
     },
     "execution_count": 53,
     "metadata": {},
     "output_type": "execute_result"
    }
   ],
   "source": [
    "accuracy_score(y_test,y_pred) \n",
    "#scaling and stratify\n",
    "#0.6349557522123894"
   ]
  },
  {
   "cell_type": "markdown",
   "metadata": {},
   "source": [
    "# Note\n",
    "You can perform further steps like PCA to reduce to dimension of the data and perform some cleansing operation like removing outliers if any. Hence in this project i have just directly tried multiple algorithms but alot more can be done <br> "
   ]
  }
 ],
 "metadata": {
  "kernelspec": {
   "display_name": "Python 3",
   "language": "python",
   "name": "python3"
  },
  "language_info": {
   "codemirror_mode": {
    "name": "ipython",
    "version": 3
   },
   "file_extension": ".py",
   "mimetype": "text/x-python",
   "name": "python",
   "nbconvert_exporter": "python",
   "pygments_lexer": "ipython3",
   "version": "3.8.8"
  }
 },
 "nbformat": 4,
 "nbformat_minor": 4
}
